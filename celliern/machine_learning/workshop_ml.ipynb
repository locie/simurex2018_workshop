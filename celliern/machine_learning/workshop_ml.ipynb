{
 "cells": [
  {
   "cell_type": "markdown",
   "metadata": {
    "toc": true
   },
   "source": [
    "<h1>Table of Contents<span class=\"tocSkip\"></span></h1>\n",
    "<div class=\"toc\"><ul class=\"toc-item\"><li><span><a href=\"#What-is-machine-learning-?\" data-toc-modified-id=\"What-is-machine-learning-?-1\"><span class=\"toc-item-num\">1&nbsp;&nbsp;</span>What is machine learning ?</a></span><ul class=\"toc-item\"><li><span><a href=\"#What-about-a-quick-example?\" data-toc-modified-id=\"What-about-a-quick-example?-1.1\"><span class=\"toc-item-num\">1.1&nbsp;&nbsp;</span>What about a quick example?</a></span></li></ul></li><li><span><a href=\"#Prepare-your-data\" data-toc-modified-id=\"Prepare-your-data-2\"><span class=\"toc-item-num\">2&nbsp;&nbsp;</span>Prepare your data</a></span><ul class=\"toc-item\"><li><span><a href=\"#Clean-and-process-your-data\" data-toc-modified-id=\"Clean-and-process-your-data-2.1\"><span class=\"toc-item-num\">2.1&nbsp;&nbsp;</span>Clean and process your data</a></span><ul class=\"toc-item\"><li><span><a href=\"#Scaling-the-data\" data-toc-modified-id=\"Scaling-the-data-2.1.1\"><span class=\"toc-item-num\">2.1.1&nbsp;&nbsp;</span>Scaling the data</a></span></li><li><span><a href=\"#Deal-with-named-label-and-categorical-data\" data-toc-modified-id=\"Deal-with-named-label-and-categorical-data-2.1.2\"><span class=\"toc-item-num\">2.1.2&nbsp;&nbsp;</span>Deal with named label and categorical data</a></span></li><li><span><a href=\"#Full-tipsy-pre-processing\" data-toc-modified-id=\"Full-tipsy-pre-processing-2.1.3\"><span class=\"toc-item-num\">2.1.3&nbsp;&nbsp;</span>Full tipsy pre-processing</a></span></li></ul></li><li><span><a href=\"#Feature-engineering\" data-toc-modified-id=\"Feature-engineering-2.2\"><span class=\"toc-item-num\">2.2&nbsp;&nbsp;</span>Feature engineering</a></span><ul class=\"toc-item\"><li><span><a href=\"#Dimension-reduction\" data-toc-modified-id=\"Dimension-reduction-2.2.1\"><span class=\"toc-item-num\">2.2.1&nbsp;&nbsp;</span>Dimension reduction</a></span><ul class=\"toc-item\"><li><span><a href=\"#Principal-Component-Analysis\" data-toc-modified-id=\"Principal-Component-Analysis-2.2.1.1\"><span class=\"toc-item-num\">2.2.1.1&nbsp;&nbsp;</span>Principal Component Analysis</a></span></li><li><span><a href=\"#Sensitivity-Analysis\" data-toc-modified-id=\"Sensitivity-Analysis-2.2.1.2\"><span class=\"toc-item-num\">2.2.1.2&nbsp;&nbsp;</span>Sensitivity Analysis</a></span></li></ul></li></ul></li></ul></li><li><span><a href=\"#Regression\" data-toc-modified-id=\"Regression-3\"><span class=\"toc-item-num\">3&nbsp;&nbsp;</span>Regression</a></span><ul class=\"toc-item\"><li><span><a href=\"#Linear-Regression\" data-toc-modified-id=\"Linear-Regression-3.1\"><span class=\"toc-item-num\">3.1&nbsp;&nbsp;</span>Linear Regression</a></span></li><li><span><a href=\"#Polynomial-regression\" data-toc-modified-id=\"Polynomial-regression-3.2\"><span class=\"toc-item-num\">3.2&nbsp;&nbsp;</span>Polynomial regression</a></span></li><li><span><a href=\"#Suport-Vector-Machine-and-Kernel-trick\" data-toc-modified-id=\"Suport-Vector-Machine-and-Kernel-trick-3.3\"><span class=\"toc-item-num\">3.3&nbsp;&nbsp;</span>Suport Vector Machine and Kernel trick</a></span></li><li><span><a href=\"#Decision-tree-and-Random-Forest\" data-toc-modified-id=\"Decision-tree-and-Random-Forest-3.4\"><span class=\"toc-item-num\">3.4&nbsp;&nbsp;</span>Decision tree and Random Forest</a></span></li><li><span><a href=\"#KNN\" data-toc-modified-id=\"KNN-3.5\"><span class=\"toc-item-num\">3.5&nbsp;&nbsp;</span>KNN</a></span></li></ul></li><li><span><a href=\"#Classification---Who-has-a-pickup?\" data-toc-modified-id=\"Classification---Who-has-a-pickup?-4\"><span class=\"toc-item-num\">4&nbsp;&nbsp;</span>Classification - Who has a pickup?</a></span></li></ul></div>"
   ]
  },
  {
   "cell_type": "code",
   "execution_count": 1,
   "metadata": {
    "ExecuteTime": {
     "end_time": "2018-10-12T10:33:41.752904Z",
     "start_time": "2018-10-12T10:33:41.746139Z"
    }
   },
   "outputs": [],
   "source": [
    "import warnings\n",
    "warnings.filterwarnings(\"ignore\")"
   ]
  },
  {
   "cell_type": "markdown",
   "metadata": {},
   "source": [
    "# A quick introduction to Machine Learning\n",
    "**SIMUREX 2018 Workshop**\n",
    "\n",
    "*Nicolas Cellier*\n",
    "\n",
    "Disclaimer :\n"
   ]
  },
  {
   "cell_type": "markdown",
   "metadata": {},
   "source": [
    "## What is machine learning ?\n",
    "\n",
    "Give to computer the ability to \"learn\" how to do prediction without explicitly programmed. Instead, it \"evolves\" thanks to external data.\n",
    "\n",
    "They exists two kind of ML algorithm :\n",
    "- Regression: given some data, we try to predict the value of the output.\n",
    "- Classification: given some data, we try to classify the output between category.\n",
    "\n",
    "These last ones can be :\n",
    "- Supervised: we have some labeled samples.\n",
    "- Unsupervised: we do not know the category, the algorithm have to guess how to separate the samples.\n",
    "\n",
    "*Some vocabulary (mine, not universal)*\n",
    "\n",
    "- **Model**: an application that, given some inputs X return one or more output y.\n",
    "- **Feature**: an input variable used in making predictions.\n",
    "- **Label**: in supervised learning, the \"answer\" or \"result\" portion of an example.\n",
    "- **Example or sample**: one row of a data set. An example contains one or more features and possibly a label.\n",
    "- **Set**: a serie of examples\n",
    "- **Training set**: the subset of the data set used to train a model.\n",
    "- **Validation set**: a subset of the data set —disjunct from the training set— that you use to adjust hyperparameters.\n",
    "- **Parameter**: a variable of a model that the ML system trains on its own. For example, weights are parameters whose values the ML system gradually learns through successive training iterations.\n",
    "- **Hyperparameter**: the \"knobs\" that you tweak during successive runs of training a model"
   ]
  },
  {
   "cell_type": "markdown",
   "metadata": {},
   "source": [
    "### What about a quick example?\n",
    "\n",
    "The simplest ML algorithm : *The linear regression*\n",
    "\n",
    "The data for this example will be the tip amount in a restaurant : we will try to predict how many people tip, given some data."
   ]
  },
  {
   "cell_type": "code",
   "execution_count": 2,
   "metadata": {
    "ExecuteTime": {
     "end_time": "2018-10-12T10:33:43.691792Z",
     "start_time": "2018-10-12T10:33:43.092042Z"
    }
   },
   "outputs": [],
   "source": [
    "import pandas as pd\n",
    "import pylab as pl\n",
    "import seaborn as sns\n",
    "pl.style.use(\"publication\")\n",
    "\n",
    "%matplotlib inline"
   ]
  },
  {
   "cell_type": "code",
   "execution_count": 3,
   "metadata": {
    "ExecuteTime": {
     "end_time": "2018-10-12T10:33:43.833666Z",
     "start_time": "2018-10-12T10:33:43.792699Z"
    }
   },
   "outputs": [
    {
     "data": {
      "text/html": [
       "<div>\n",
       "<style scoped>\n",
       "    .dataframe tbody tr th:only-of-type {\n",
       "        vertical-align: middle;\n",
       "    }\n",
       "\n",
       "    .dataframe tbody tr th {\n",
       "        vertical-align: top;\n",
       "    }\n",
       "\n",
       "    .dataframe thead th {\n",
       "        text-align: right;\n",
       "    }\n",
       "</style>\n",
       "<table border=\"1\" class=\"dataframe\">\n",
       "  <thead>\n",
       "    <tr style=\"text-align: right;\">\n",
       "      <th></th>\n",
       "      <th>total_bill</th>\n",
       "      <th>tip</th>\n",
       "      <th>sex</th>\n",
       "      <th>smoker</th>\n",
       "      <th>day</th>\n",
       "      <th>time</th>\n",
       "      <th>size</th>\n",
       "    </tr>\n",
       "  </thead>\n",
       "  <tbody>\n",
       "    <tr>\n",
       "      <th>0</th>\n",
       "      <td>16.99</td>\n",
       "      <td>1.01</td>\n",
       "      <td>Female</td>\n",
       "      <td>No</td>\n",
       "      <td>Sun</td>\n",
       "      <td>Dinner</td>\n",
       "      <td>2</td>\n",
       "    </tr>\n",
       "    <tr>\n",
       "      <th>1</th>\n",
       "      <td>10.34</td>\n",
       "      <td>1.66</td>\n",
       "      <td>Male</td>\n",
       "      <td>No</td>\n",
       "      <td>Sun</td>\n",
       "      <td>Dinner</td>\n",
       "      <td>3</td>\n",
       "    </tr>\n",
       "    <tr>\n",
       "      <th>2</th>\n",
       "      <td>21.01</td>\n",
       "      <td>3.50</td>\n",
       "      <td>Male</td>\n",
       "      <td>No</td>\n",
       "      <td>Sun</td>\n",
       "      <td>Dinner</td>\n",
       "      <td>3</td>\n",
       "    </tr>\n",
       "    <tr>\n",
       "      <th>3</th>\n",
       "      <td>23.68</td>\n",
       "      <td>3.31</td>\n",
       "      <td>Male</td>\n",
       "      <td>No</td>\n",
       "      <td>Sun</td>\n",
       "      <td>Dinner</td>\n",
       "      <td>2</td>\n",
       "    </tr>\n",
       "    <tr>\n",
       "      <th>4</th>\n",
       "      <td>24.59</td>\n",
       "      <td>3.61</td>\n",
       "      <td>Female</td>\n",
       "      <td>No</td>\n",
       "      <td>Sun</td>\n",
       "      <td>Dinner</td>\n",
       "      <td>4</td>\n",
       "    </tr>\n",
       "  </tbody>\n",
       "</table>\n",
       "</div>"
      ],
      "text/plain": [
       "   total_bill   tip     sex smoker  day    time  size\n",
       "0       16.99  1.01  Female     No  Sun  Dinner     2\n",
       "1       10.34  1.66    Male     No  Sun  Dinner     3\n",
       "2       21.01  3.50    Male     No  Sun  Dinner     3\n",
       "3       23.68  3.31    Male     No  Sun  Dinner     2\n",
       "4       24.59  3.61  Female     No  Sun  Dinner     4"
      ]
     },
     "execution_count": 3,
     "metadata": {},
     "output_type": "execute_result"
    }
   ],
   "source": [
    "# The data is available via the seaborn stat package\n",
    "dataframe = sns.load_dataset(\"tips\")\n",
    "dataframe.head(5)"
   ]
  },
  {
   "cell_type": "code",
   "execution_count": 7,
   "metadata": {
    "ExecuteTime": {
     "end_time": "2018-10-10T08:40:30.344831Z",
     "start_time": "2018-10-10T08:40:29.468101Z"
    }
   },
   "outputs": [
    {
     "data": {
      "image/png": "[encoded data removed]",
      "text/plain": [
       "<Figure size 432x288 with 1 Axes>"
      ]
     },
     "metadata": {},
     "output_type": "display_data"
    }
   ],
   "source": [
    "# We plot the data\n",
    "dataframe.plot(\"total_bill\", \"tip\", kind=\"scatter\");"
   ]
  },
  {
   "cell_type": "markdown",
   "metadata": {},
   "source": [
    "Here, the `total_bill` is the only *feature* `x`, and `tip` is the *label* `y`. We will try to train an algorithm to predict the later with the former.\n",
    "\n",
    "A monovariate linear regression try to adjust the *parameters* `a` and `b` in the equation\n",
    "\n",
    "$y = a x + b$\n",
    "\n",
    "This very simple algorithm have no hyperparameter, and you can manually adjust the weights with a ruler.\n",
    "\n",
    "Let's see how to do this with `scikit-learn` !"
   ]
  },
  {
   "cell_type": "code",
   "execution_count": 8,
   "metadata": {
    "ExecuteTime": {
     "end_time": "2018-10-10T08:40:34.603721Z",
     "start_time": "2018-10-10T08:40:32.682633Z"
    }
   },
   "outputs": [],
   "source": [
    "from sklearn.linear_model import LinearRegression\n",
    "from sklearn.model_selection import train_test_split\n",
    "from sklearn.metrics import mean_squared_error, r2_score"
   ]
  },
  {
   "cell_type": "markdown",
   "metadata": {},
   "source": [
    "First, we have to get the feature column X, with a shape (n samples, n features). In our case, a shape (n samples, 1).\n",
    "\n",
    "The label vector will be a simple row."
   ]
  },
  {
   "cell_type": "code",
   "execution_count": 9,
   "metadata": {
    "ExecuteTime": {
     "end_time": "2018-10-10T08:40:35.476400Z",
     "start_time": "2018-10-10T08:40:35.466619Z"
    }
   },
   "outputs": [],
   "source": [
    "X = dataframe.total_bill.values.reshape(-1, 1)\n",
    "y = dataframe.tip.values"
   ]
  },
  {
   "cell_type": "markdown",
   "metadata": {},
   "source": [
    "Then, we have to split the examples into two set: a *training set* and a *test set*. The first one will fed the model, and the second will be used to test the model predictions.\n",
    "\n",
    "By default, 1 / 4 is used for testing, 3 / 4 to fit the model."
   ]
  },
  {
   "cell_type": "code",
   "execution_count": 10,
   "metadata": {
    "ExecuteTime": {
     "end_time": "2018-10-10T08:40:36.468775Z",
     "start_time": "2018-10-10T08:40:36.460917Z"
    }
   },
   "outputs": [],
   "source": [
    "X_train, X_test, y_train, y_test = train_test_split(X, y)"
   ]
  },
  {
   "cell_type": "markdown",
   "metadata": {},
   "source": [
    "We can then initialize our model, feed it with our training set and show the prediction."
   ]
  },
  {
   "cell_type": "code",
   "execution_count": 11,
   "metadata": {
    "ExecuteTime": {
     "end_time": "2018-10-10T08:40:38.712148Z",
     "start_time": "2018-10-10T08:40:37.643165Z"
    }
   },
   "outputs": [
    {
     "data": {
      "image/png": "[encoded data removed]",
      "text/plain": [
       "<Figure size 432x288 with 1 Axes>"
      ]
     },
     "metadata": {},
     "output_type": "display_data"
    }
   ],
   "source": [
    "linear_reg = LinearRegression()\n",
    "linear_reg.fit(X_train, y_train)\n",
    "\n",
    "# We create a evenly spaced total_bills for prediction\n",
    "x_ = np.linspace(X.min(), X.max(), 100).reshape(-1, 1)\n",
    "# We ask our model to predict what sould be the tip\n",
    "y_ = linear_reg.predict(x_)\n",
    "\n",
    "dataframe.plot(\"total_bill\", \"tip\", kind=\"scatter\");\n",
    "pl.plot(x_, y_, color=\"red\", linewidth=5)\n",
    "pl.xlabel(\"total bill\")\n",
    "pl.ylabel(\"tip\");"
   ]
  },
  {
   "cell_type": "markdown",
   "metadata": {},
   "source": [
    "To have a quantification of the quality of our model, we can use the $R^2$ (closest to 1 the better), or the mean squared error (less the better). They have to run on the *test set*."
   ]
  },
  {
   "cell_type": "code",
   "execution_count": 12,
   "metadata": {
    "ExecuteTime": {
     "end_time": "2018-10-10T08:40:40.417246Z",
     "start_time": "2018-10-10T08:40:40.397435Z"
    }
   },
   "outputs": [
    {
     "name": "stdout",
     "output_type": "stream",
     "text": [
      "Mean squared error: 1.01662\n",
      "R²: 0.307348\n"
     ]
    }
   ],
   "source": [
    "print(f\"Mean squared error: {mean_squared_error(y_test, linear_reg.predict(X_test)):g}\")\n",
    "print(f\"R²: {r2_score(y_test, linear_reg.predict(X_test)):g}\")"
   ]
  },
  {
   "cell_type": "markdown",
   "metadata": {},
   "source": [
    "The results are not very good : a simple algorithm on only one feature may not be enough."
   ]
  },
  {
   "cell_type": "markdown",
   "metadata": {},
   "source": [
    "## Prepare your data\n",
    "\n",
    "One important then often forgotten step is the data pre-processing.\n",
    "\n",
    "You have to ensure to have clean input data first, then work on it to improve the algorithms performance."
   ]
  },
  {
   "cell_type": "markdown",
   "metadata": {},
   "source": [
    "### Clean and process your data\n",
    "\n",
    "Because we use well known and clean dataset, cleaning the data will not be aborded here, but be carefull with\n",
    "\n",
    "- encoding (UTF8, latin-1, ascii ?)\n",
    "- Case specificity for string\n",
    "- Outliers\n",
    "- Non-aligned datetime\n",
    "- ...\n",
    "\n",
    "Which are non-trivial for real-life data and that can take a lot of time.\n",
    "\n",
    "For the processing, the main points are :\n",
    "\n",
    "#### Scaling the data\n",
    "\n",
    "A lot of algorithms depend of the input ranges : using a feature with a huge delta will have more importance that one with a smaller range.\n",
    "\n",
    "Solution : remove the mean and scale to unit variance\n",
    "\n",
    "Lucky us : this is available in scikit-learn via the `StandardScaler`."
   ]
  },
  {
   "cell_type": "code",
   "execution_count": 13,
   "metadata": {
    "ExecuteTime": {
     "end_time": "2018-10-10T08:40:47.337685Z",
     "start_time": "2018-10-10T08:40:47.333818Z"
    }
   },
   "outputs": [],
   "source": [
    "from sklearn.preprocessing import StandardScaler"
   ]
  },
  {
   "cell_type": "code",
   "execution_count": 14,
   "metadata": {
    "ExecuteTime": {
     "end_time": "2018-10-10T08:40:48.647736Z",
     "start_time": "2018-10-10T08:40:48.163441Z"
    }
   },
   "outputs": [
    {
     "data": {
      "text/plain": [
       "<matplotlib.collections.PathCollection at 0x7f2f0b826978>"
      ]
     },
     "execution_count": 14,
     "metadata": {},
     "output_type": "execute_result"
    },
    {
     "data": {
      "image/png": "[encoded data removed]",
      "text/plain": [
       "<Figure size 504x216 with 2 Axes>"
      ]
     },
     "metadata": {},
     "output_type": "display_data"
    }
   ],
   "source": [
    "sc = StandardScaler()\n",
    "X_scaled = sc.fit_transform(X)\n",
    "\n",
    "fig, axs = pl.subplots(1, 2, figsize=(7, 3))\n",
    "axs[0].scatter(X, y)\n",
    "axs[1].scatter(X_scaled, y)"
   ]
  },
  {
   "cell_type": "markdown",
   "metadata": {},
   "source": [
    "This object allows us to reverse the scaling :"
   ]
  },
  {
   "cell_type": "code",
   "execution_count": 15,
   "metadata": {
    "ExecuteTime": {
     "end_time": "2018-10-10T08:41:02.771693Z",
     "start_time": "2018-10-10T08:41:02.755377Z"
    }
   },
   "outputs": [
    {
     "data": {
      "text/plain": [
       "True"
      ]
     },
     "execution_count": 15,
     "metadata": {},
     "output_type": "execute_result"
    }
   ],
   "source": [
    "np.isclose(sc.inverse_transform(X_scaled), X).all()"
   ]
  },
  {
   "cell_type": "markdown",
   "metadata": {},
   "source": [
    "#### Deal with named label and categorical data"
   ]
  },
  {
   "cell_type": "code",
   "execution_count": 16,
   "metadata": {
    "ExecuteTime": {
     "end_time": "2018-10-10T08:41:07.025448Z",
     "start_time": "2018-10-10T08:41:07.010706Z"
    }
   },
   "outputs": [
    {
     "data": {
      "text/plain": [
       "56       Male\n",
       "243    Female\n",
       "113      Male\n",
       "4      Female\n",
       "238    Female\n",
       "Name: sex, dtype: category\n",
       "Categories (2, object): [Male, Female]"
      ]
     },
     "execution_count": 16,
     "metadata": {},
     "output_type": "execute_result"
    }
   ],
   "source": [
    "dataframe.sex.sample(5)"
   ]
  },
  {
   "cell_type": "markdown",
   "metadata": {},
   "source": [
    "Algorithm does not deal well with strings. A simple way to deal with that is to assign each category with an integer."
   ]
  },
  {
   "cell_type": "code",
   "execution_count": 17,
   "metadata": {
    "ExecuteTime": {
     "end_time": "2018-10-10T08:41:11.636221Z",
     "start_time": "2018-10-10T08:41:11.631775Z"
    }
   },
   "outputs": [],
   "source": [
    "from sklearn.preprocessing import OrdinalEncoder"
   ]
  },
  {
   "cell_type": "code",
   "execution_count": 18,
   "metadata": {
    "ExecuteTime": {
     "end_time": "2018-10-10T08:41:12.418034Z",
     "start_time": "2018-10-10T08:41:12.357592Z"
    }
   },
   "outputs": [
    {
     "name": "stdout",
     "output_type": "stream",
     "text": [
      "[[0.]\n",
      " [1.]\n",
      " [1.]\n",
      " [1.]\n",
      " [0.]]\n",
      "[['Female']\n",
      " ['Male']\n",
      " ['Male']\n",
      " ['Male']\n",
      " ['Female']]\n"
     ]
    }
   ],
   "source": [
    "ce = OrdinalEncoder()\n",
    "Xsex = ce.fit_transform(dataframe[[\"sex\"]])\n",
    "print(Xsex[:5])\n",
    "print(ce.inverse_transform(Xsex[:5]))"
   ]
  },
  {
   "cell_type": "markdown",
   "metadata": {},
   "source": [
    "Hourray ! We can use this as model input now.\n",
    "\n",
    "But what about the week days?"
   ]
  },
  {
   "cell_type": "code",
   "execution_count": 19,
   "metadata": {
    "ExecuteTime": {
     "end_time": "2018-10-10T08:41:15.851586Z",
     "start_time": "2018-10-10T08:41:15.843724Z"
    }
   },
   "outputs": [
    {
     "data": {
      "text/plain": [
       "196    Thur\n",
       "204    Thur\n",
       "54      Sun\n",
       "165     Sun\n",
       "179     Sun\n",
       "Name: day, dtype: category\n",
       "Categories (4, object): [Thur, Fri, Sat, Sun]"
      ]
     },
     "execution_count": 19,
     "metadata": {},
     "output_type": "execute_result"
    }
   ],
   "source": [
    "dataframe.day.sample(5)"
   ]
  },
  {
   "cell_type": "markdown",
   "metadata": {},
   "source": [
    "***Do not do that***"
   ]
  },
  {
   "cell_type": "code",
   "execution_count": 21,
   "metadata": {
    "ExecuteTime": {
     "end_time": "2018-10-10T08:41:24.123415Z",
     "start_time": "2018-10-10T08:41:24.107173Z"
    }
   },
   "outputs": [
    {
     "data": {
      "text/plain": [
       "array([0., 1., 2., 3.])"
      ]
     },
     "execution_count": 21,
     "metadata": {},
     "output_type": "execute_result"
    }
   ],
   "source": [
    "ce = OrdinalEncoder()\n",
    "Xday = ce.fit_transform(dataframe[[\"day\"]])\n",
    "np.unique(Xday)"
   ]
  },
  {
   "cell_type": "markdown",
   "metadata": {},
   "source": [
    "Some day of the week will be interpreted as having more importance that other"
   ]
  },
  {
   "cell_type": "code",
   "execution_count": 22,
   "metadata": {
    "ExecuteTime": {
     "end_time": "2018-10-10T08:41:25.485246Z",
     "start_time": "2018-10-10T08:41:25.474487Z"
    }
   },
   "outputs": [
    {
     "data": {
      "text/plain": [
       "array([['Fri'],\n",
       "       ['Sat'],\n",
       "       ['Sun'],\n",
       "       ['Thur']], dtype=object)"
      ]
     },
     "execution_count": 22,
     "metadata": {},
     "output_type": "execute_result"
    }
   ],
   "source": [
    "ce.inverse_transform([[0], [1], [2], [3]])"
   ]
  },
  {
   "cell_type": "markdown",
   "metadata": {},
   "source": [
    "Solution : *assign one column per category, which have 0 or 1 as values*, Available via the `OneHotEncoder`!"
   ]
  },
  {
   "cell_type": "code",
   "execution_count": 23,
   "metadata": {
    "ExecuteTime": {
     "end_time": "2018-10-10T08:41:32.987329Z",
     "start_time": "2018-10-10T08:41:32.979634Z"
    }
   },
   "outputs": [],
   "source": [
    "from sklearn.preprocessing import OneHotEncoder"
   ]
  },
  {
   "cell_type": "code",
   "execution_count": 25,
   "metadata": {
    "ExecuteTime": {
     "end_time": "2018-10-10T08:42:00.375246Z",
     "start_time": "2018-10-10T08:42:00.364056Z"
    }
   },
   "outputs": [
    {
     "data": {
      "text/plain": [
       "array([['Sun', 0.0, 0.0, 1.0, 0.0],\n",
       "       ['Sun', 0.0, 0.0, 1.0, 0.0],\n",
       "       ['Sun', 0.0, 0.0, 1.0, 0.0],\n",
       "       ...,\n",
       "       ['Sat', 0.0, 1.0, 0.0, 0.0],\n",
       "       ['Sat', 0.0, 1.0, 0.0, 0.0],\n",
       "       ['Thur', 0.0, 0.0, 0.0, 1.0]], dtype=object)"
      ]
     },
     "execution_count": 25,
     "metadata": {},
     "output_type": "execute_result"
    }
   ],
   "source": [
    "ohe = OneHotEncoder(sparse=False)\n",
    "Xday = ohe.fit_transform(dataframe[[\"day\"]])\n",
    "np.concatenate([dataframe[[\"day\"]], Xday], axis=1)"
   ]
  },
  {
   "cell_type": "markdown",
   "metadata": {},
   "source": [
    "#### Full tipsy pre-processing"
   ]
  },
  {
   "cell_type": "code",
   "execution_count": 26,
   "metadata": {
    "ExecuteTime": {
     "end_time": "2018-10-10T08:42:20.211554Z",
     "start_time": "2018-10-10T08:42:20.165491Z"
    }
   },
   "outputs": [
    {
     "data": {
      "text/html": [
       "<div>\n",
       "<style scoped>\n",
       "    .dataframe tbody tr th:only-of-type {\n",
       "        vertical-align: middle;\n",
       "    }\n",
       "\n",
       "    .dataframe tbody tr th {\n",
       "        vertical-align: top;\n",
       "    }\n",
       "\n",
       "    .dataframe thead th {\n",
       "        text-align: right;\n",
       "    }\n",
       "</style>\n",
       "<table border=\"1\" class=\"dataframe\">\n",
       "  <thead>\n",
       "    <tr style=\"text-align: right;\">\n",
       "      <th></th>\n",
       "      <th>total_bill</th>\n",
       "      <th>tip</th>\n",
       "      <th>sex</th>\n",
       "      <th>smoker</th>\n",
       "      <th>day</th>\n",
       "      <th>time</th>\n",
       "      <th>size</th>\n",
       "    </tr>\n",
       "  </thead>\n",
       "  <tbody>\n",
       "    <tr>\n",
       "      <th>0</th>\n",
       "      <td>16.99</td>\n",
       "      <td>1.01</td>\n",
       "      <td>Female</td>\n",
       "      <td>No</td>\n",
       "      <td>Sun</td>\n",
       "      <td>Dinner</td>\n",
       "      <td>2</td>\n",
       "    </tr>\n",
       "    <tr>\n",
       "      <th>1</th>\n",
       "      <td>10.34</td>\n",
       "      <td>1.66</td>\n",
       "      <td>Male</td>\n",
       "      <td>No</td>\n",
       "      <td>Sun</td>\n",
       "      <td>Dinner</td>\n",
       "      <td>3</td>\n",
       "    </tr>\n",
       "  </tbody>\n",
       "</table>\n",
       "</div>"
      ],
      "text/plain": [
       "   total_bill   tip     sex smoker  day    time  size\n",
       "0       16.99  1.01  Female     No  Sun  Dinner     2\n",
       "1       10.34  1.66    Male     No  Sun  Dinner     3"
      ]
     },
     "execution_count": 26,
     "metadata": {},
     "output_type": "execute_result"
    }
   ],
   "source": [
    "dataframe.head(2)"
   ]
  },
  {
   "cell_type": "code",
   "execution_count": 44,
   "metadata": {
    "ExecuteTime": {
     "end_time": "2018-10-10T08:47:51.702986Z",
     "start_time": "2018-10-10T08:47:51.668574Z"
    }
   },
   "outputs": [
    {
     "data": {
      "text/plain": [
       "(244, 9)"
      ]
     },
     "execution_count": 44,
     "metadata": {},
     "output_type": "execute_result"
    }
   ],
   "source": [
    "sc = StandardScaler()\n",
    "oc_sex = OrdinalEncoder()\n",
    "oc_smoke = OrdinalEncoder()\n",
    "ohe_day = OneHotEncoder(sparse=False)\n",
    "oc_time = OrdinalEncoder()\n",
    "X1 = dataframe[[\"total_bill\"]]\n",
    "X2 = oc_sex.fit_transform(dataframe[[\"sex\"]])\n",
    "X3 = oc_smoke.fit_transform(dataframe[[\"smoker\"]])\n",
    "X4 = ohe_day.fit_transform(dataframe[[\"day\"]])\n",
    "X5 = oc_time.fit_transform(dataframe[[\"time\"]])\n",
    "X6 = dataframe[[\"size\"]]\n",
    "\n",
    "X = sc.fit_transform(np.concatenate([X1, X2, X3, X4, X5, X6], axis=1))\n",
    "X.shape"
   ]
  },
  {
   "cell_type": "code",
   "execution_count": 54,
   "metadata": {
    "ExecuteTime": {
     "end_time": "2018-10-10T08:48:56.195969Z",
     "start_time": "2018-10-10T08:48:56.187763Z"
    }
   },
   "outputs": [],
   "source": [
    "y = dataframe.tip.values"
   ]
  },
  {
   "cell_type": "markdown",
   "metadata": {},
   "source": [
    "### Feature engineering"
   ]
  },
  {
   "cell_type": "markdown",
   "metadata": {},
   "source": [
    "***We are not google***\n",
    "\n",
    "![](https://imgs.xkcd.com/comics/machine_learning.png)\n",
    "\n",
    "We cannot afford that huge clusters, or Petabytes of data. We need to be clever.\n",
    "\n",
    "Moreover, we need to deal with the [Curse of dimensionality](https://en.wikipedia.org/wiki/Curse_of_dimensionality) : A typical rule of thumb is that there should be at least 5 training examples for each dimension in the representation. (in our case, 50. We are good !).\n",
    "\n",
    "It's great to try to reduce the number of features, or to transform them to increase their relevance.\n",
    "\n",
    "Time series are very great examples : instead of having one input per hour (or minutes / seconds), we can instead use the main Fourier modes, which will give us information on periodicity.\n",
    "\n",
    "**As a general rule : more expert knowledge you add, better the results**"
   ]
  },
  {
   "cell_type": "markdown",
   "metadata": {},
   "source": [
    "#### Dimension reduction\n",
    "\n",
    "##### Principal Component Analysis\n",
    "\n",
    "Is a tool that allow to transform correlated input variables into linearly uncorrelated variables called principal components.\n",
    "\n",
    "It can be used to heavily reduce the dimensionality input yet keeping some distance properties intact."
   ]
  },
  {
   "cell_type": "code",
   "execution_count": 55,
   "metadata": {
    "ExecuteTime": {
     "end_time": "2018-10-10T08:48:59.285779Z",
     "start_time": "2018-10-10T08:48:59.281927Z"
    }
   },
   "outputs": [],
   "source": [
    "from sklearn.decomposition import PCA"
   ]
  },
  {
   "cell_type": "code",
   "execution_count": 56,
   "metadata": {
    "ExecuteTime": {
     "end_time": "2018-10-10T08:49:02.599402Z",
     "start_time": "2018-10-10T08:49:01.481546Z"
    }
   },
   "outputs": [
    {
     "data": {
      "text/plain": [
       "<matplotlib.collections.PathCollection at 0x7f2ea008c4a8>"
      ]
     },
     "execution_count": 56,
     "metadata": {},
     "output_type": "execute_result"
    },
    {
     "data": {
      "image/png": "[encoded data removed]",
      "text/plain": [
       "<Figure size 432x288 with 1 Axes>"
      ]
     },
     "metadata": {},
     "output_type": "display_data"
    }
   ],
   "source": [
    "pca = PCA(n_components=2)\n",
    "X_reduced = pca.fit_transform(X)\n",
    "pl.scatter(*X_reduced.T)"
   ]
  },
  {
   "cell_type": "markdown",
   "metadata": {},
   "source": [
    "##### Sensitivity Analysis\n",
    "\n",
    "In case of sensitivity analysis, we try to quantify how much each $X_i$ variance in responsible of the $y$ variance.\n",
    "\n",
    "Results can be given with sensitivity analysis, defined between 0 and 1 (0 ~ no impact, 1 ~ max impact).\n",
    "\n",
    "Different algorithm, most of them available via SALib.\n",
    "\n",
    "`rbd-fast` is one of them needing the less of examples to work.\n",
    "\n",
    "Should need a proper sampling (Latin-Hypercube-Sampling), but can give some clue even with badly sampled examples (as ours...)."
   ]
  },
  {
   "cell_type": "code",
   "execution_count": 57,
   "metadata": {
    "ExecuteTime": {
     "end_time": "2018-10-10T08:49:04.130030Z",
     "start_time": "2018-10-10T08:49:04.126496Z"
    }
   },
   "outputs": [],
   "source": [
    "from SALib.analyze import rbd_fast"
   ]
  },
  {
   "cell_type": "code",
   "execution_count": 59,
   "metadata": {
    "ExecuteTime": {
     "end_time": "2018-10-10T08:49:06.974326Z",
     "start_time": "2018-10-10T08:49:06.954806Z"
    }
   },
   "outputs": [
    {
     "data": {
      "text/plain": [
       "{'S1': [0.4149051444220548,\n",
       "  -0.01868736792909788,\n",
       "  0.016401176235205997,\n",
       "  -0.00910127255078945,\n",
       "  -0.015199404078285558,\n",
       "  -0.005410089828415385,\n",
       "  0.038828889925987015,\n",
       "  0.002121662377185571,\n",
       "  0.24619251929259564]}"
      ]
     },
     "execution_count": 59,
     "metadata": {},
     "output_type": "execute_result"
    }
   ],
   "source": [
    "problem = {\n",
    "    'num_vars': 9,\n",
    "    'names': ['x%i' for i in range(9)],\n",
    "    'bounds': [(X[:, i].min(), X[:, i].max()) for i in range(9)]\n",
    "}\n",
    "\n",
    "rbd_fast.analyze(problem, y, X)"
   ]
  },
  {
   "cell_type": "markdown",
   "metadata": {},
   "source": [
    "First parameter (total bill) seems to have a strong influence, other one neglectible, but... it explain only 40% of the output variance!\n",
    "\n",
    "**There is strong crossed interaction between our parameters**\n",
    "\n",
    "Without the possibility to have more data with proper sampling, we have to keep them all !"
   ]
  },
  {
   "cell_type": "markdown",
   "metadata": {},
   "source": [
    "## Regression"
   ]
  },
  {
   "cell_type": "markdown",
   "metadata": {},
   "source": [
    "A regression is a model that try to predict a numerical value from some inputs.\n",
    "\n",
    "As training, we will be using an obviously fake data that link hierarchic level with salary."
   ]
  },
  {
   "cell_type": "code",
   "execution_count": 60,
   "metadata": {
    "ExecuteTime": {
     "end_time": "2018-10-10T08:50:08.192831Z",
     "start_time": "2018-10-10T08:50:08.171419Z"
    }
   },
   "outputs": [],
   "source": [
    "df = pd.read_csv(\"data/position_salaries.csv\")"
   ]
  },
  {
   "cell_type": "code",
   "execution_count": 61,
   "metadata": {
    "ExecuteTime": {
     "end_time": "2018-10-10T08:50:23.141453Z",
     "start_time": "2018-10-10T08:50:23.123204Z"
    }
   },
   "outputs": [
    {
     "data": {
      "text/html": [
       "<div>\n",
       "<style scoped>\n",
       "    .dataframe tbody tr th:only-of-type {\n",
       "        vertical-align: middle;\n",
       "    }\n",
       "\n",
       "    .dataframe tbody tr th {\n",
       "        vertical-align: top;\n",
       "    }\n",
       "\n",
       "    .dataframe thead th {\n",
       "        text-align: right;\n",
       "    }\n",
       "</style>\n",
       "<table border=\"1\" class=\"dataframe\">\n",
       "  <thead>\n",
       "    <tr style=\"text-align: right;\">\n",
       "      <th></th>\n",
       "      <th>Position</th>\n",
       "      <th>Level</th>\n",
       "      <th>Salary</th>\n",
       "    </tr>\n",
       "  </thead>\n",
       "  <tbody>\n",
       "    <tr>\n",
       "      <th>0</th>\n",
       "      <td>Business Analyst</td>\n",
       "      <td>1</td>\n",
       "      <td>45000</td>\n",
       "    </tr>\n",
       "    <tr>\n",
       "      <th>1</th>\n",
       "      <td>Junior Consultant</td>\n",
       "      <td>2</td>\n",
       "      <td>50000</td>\n",
       "    </tr>\n",
       "    <tr>\n",
       "      <th>2</th>\n",
       "      <td>Senior Consultant</td>\n",
       "      <td>3</td>\n",
       "      <td>60000</td>\n",
       "    </tr>\n",
       "    <tr>\n",
       "      <th>3</th>\n",
       "      <td>Manager</td>\n",
       "      <td>4</td>\n",
       "      <td>80000</td>\n",
       "    </tr>\n",
       "    <tr>\n",
       "      <th>4</th>\n",
       "      <td>Country Manager</td>\n",
       "      <td>5</td>\n",
       "      <td>110000</td>\n",
       "    </tr>\n",
       "  </tbody>\n",
       "</table>\n",
       "</div>"
      ],
      "text/plain": [
       "            Position  Level  Salary\n",
       "0   Business Analyst      1   45000\n",
       "1  Junior Consultant      2   50000\n",
       "2  Senior Consultant      3   60000\n",
       "3            Manager      4   80000\n",
       "4    Country Manager      5  110000"
      ]
     },
     "execution_count": 61,
     "metadata": {},
     "output_type": "execute_result"
    }
   ],
   "source": [
    "df.head(5)"
   ]
  },
  {
   "cell_type": "code",
   "execution_count": 146,
   "metadata": {
    "ExecuteTime": {
     "end_time": "2018-10-10T09:24:46.185194Z",
     "start_time": "2018-10-10T09:24:46.180915Z"
    }
   },
   "outputs": [],
   "source": [
    "sc = StandardScaler()\n",
    "\n",
    "X = df[[\"Level\"]].values\n",
    "y = df.Salary.values * (1 + np.random.randn(len(df)) * .3)"
   ]
  },
  {
   "cell_type": "code",
   "execution_count": null,
   "metadata": {},
   "outputs": [],
   "source": [
    "pl.scatter(df.Level, df.Salary)\n",
    "pl.xlabel(\"level\")\n",
    "pl.ylabel(\"salary\")"
   ]
  },
  {
   "cell_type": "markdown",
   "metadata": {},
   "source": [
    "### Linear Regression"
   ]
  },
  {
   "cell_type": "code",
   "execution_count": 128,
   "metadata": {
    "ExecuteTime": {
     "end_time": "2018-10-10T09:21:33.609804Z",
     "start_time": "2018-10-10T09:21:33.595319Z"
    }
   },
   "outputs": [],
   "source": [
    "from sklearn.linear_model import LinearRegression"
   ]
  },
  {
   "cell_type": "code",
   "execution_count": 165,
   "metadata": {
    "ExecuteTime": {
     "end_time": "2018-10-10T09:42:59.219813Z",
     "start_time": "2018-10-10T09:42:58.241821Z"
    }
   },
   "outputs": [
    {
     "data": {
      "text/plain": [
       "<matplotlib.legend.Legend at 0x7f2e60525908>"
      ]
     },
     "execution_count": 165,
     "metadata": {},
     "output_type": "execute_result"
    },
    {
     "data": {
      "image/png": "[encoded data removed]",
      "text/plain": [
       "<Figure size 432x288 with 1 Axes>"
      ]
     },
     "metadata": {},
     "output_type": "display_data"
    }
   ],
   "source": [
    "model = LinearRegression()\n",
    "model.fit(X, y)\n",
    "\n",
    "X_ = np.linspace(1, 10, 100).reshape(-1, 1)\n",
    "predicted_salary = model.predict(X_)\n",
    "\n",
    "pl.scatter(df.Level, df.Salary, color=\"red\", label=\"dataset\")\n",
    "pl.plot(X_, predicted_salary, color=\"black\", label=\"prediction\")\n",
    "\n",
    "pl.ylabel(\"Salary ($)\")\n",
    "pl.ylabel(\"Level\")\n",
    "pl.legend()"
   ]
  },
  {
   "cell_type": "markdown",
   "metadata": {
    "solution": "hidden",
    "solution_first": true
   },
   "source": [
    "***Exercise***: How to increase the result with a very simple math trick?"
   ]
  },
  {
   "cell_type": "code",
   "execution_count": 130,
   "metadata": {
    "ExecuteTime": {
     "end_time": "2018-10-10T09:21:41.141391Z",
     "start_time": "2018-10-10T09:21:40.472084Z"
    },
    "solution": "hidden"
   },
   "outputs": [
    {
     "data": {
      "text/plain": [
       "<matplotlib.legend.Legend at 0x7f2e61fee3c8>"
      ]
     },
     "execution_count": 130,
     "metadata": {},
     "output_type": "execute_result"
    },
    {
     "data": {
      "image/png": "[encoded data removed]",
      "text/plain": [
       "<Figure size 432x288 with 1 Axes>"
      ]
     },
     "metadata": {},
     "output_type": "display_data"
    }
   ],
   "source": [
    "model = LinearRegression()\n",
    "model.fit(X, np.log(y))\n",
    "\n",
    "X_ = np.linspace(1, 10, 100).reshape(-1, 1)\n",
    "predicted_salary = np.exp(model.predict(X_))\n",
    "\n",
    "pl.scatter(X, y, color=\"red\", label=\"dataset\")\n",
    "pl.plot(X_, predicted_salary, color=\"black\", label=\"prediction\")\n",
    "\n",
    "pl.ylabel(\"Salary ($)\")\n",
    "pl.ylabel(\"Level\")\n",
    "pl.legend()"
   ]
  },
  {
   "cell_type": "markdown",
   "metadata": {},
   "source": [
    "### Polynomial regression"
   ]
  },
  {
   "cell_type": "code",
   "execution_count": 131,
   "metadata": {
    "ExecuteTime": {
     "end_time": "2018-10-10T09:21:41.585912Z",
     "start_time": "2018-10-10T09:21:41.579459Z"
    }
   },
   "outputs": [],
   "source": [
    "from sklearn.preprocessing import PolynomialFeatures"
   ]
  },
  {
   "cell_type": "markdown",
   "metadata": {},
   "source": [
    "Polynomial Feature will transform a feature list X (for example [a, b]) to polynomial features\n",
    "\n",
    "$X = [1, a, b, ab, a², b²]$\n",
    "\n",
    "In our case with only one feature, we will have\n",
    "\n",
    "$X = [1, x, x²]$"
   ]
  },
  {
   "cell_type": "code",
   "execution_count": 164,
   "metadata": {
    "ExecuteTime": {
     "end_time": "2018-10-10T09:42:49.206484Z",
     "start_time": "2018-10-10T09:42:48.250373Z"
    }
   },
   "outputs": [
    {
     "data": {
      "text/plain": [
       "<matplotlib.legend.Legend at 0x7f2e605462e8>"
      ]
     },
     "execution_count": 164,
     "metadata": {},
     "output_type": "execute_result"
    },
    {
     "data": {
      "image/png": "[encoded data removed]",
      "text/plain": [
       "<Figure size 432x288 with 1 Axes>"
      ]
     },
     "metadata": {},
     "output_type": "display_data"
    }
   ],
   "source": [
    "pf = PolynomialFeatures(degree=2)\n",
    "X_poly = pf.fit_transform(X)\n",
    "\n",
    "model = LinearRegression()\n",
    "model.fit(X_poly, y)\n",
    "\n",
    "X_ = np.linspace(1, 10, 100).reshape(-1, 1)\n",
    "predicted_salary = model.predict(pf.transform(X_))\n",
    "\n",
    "pl.scatter(df.Level, df.Salary, color=\"red\", label=\"dataset\")\n",
    "pl.plot(X_, predicted_salary, color=\"black\", label=\"prediction\")\n",
    "\n",
    "pl.ylabel(\"Salary ($)\")\n",
    "pl.ylabel(\"Level\")\n",
    "pl.legend()"
   ]
  },
  {
   "cell_type": "markdown",
   "metadata": {
    "solution": "hidden",
    "solution_first": true
   },
   "source": [
    "***Exercise***: How behave the regression with an increasing number of degree?"
   ]
  },
  {
   "cell_type": "code",
   "execution_count": 168,
   "metadata": {
    "ExecuteTime": {
     "end_time": "2018-10-10T09:43:44.900772Z",
     "start_time": "2018-10-10T09:43:44.035763Z"
    },
    "solution": "hidden"
   },
   "outputs": [
    {
     "data": {
      "text/plain": [
       "<matplotlib.legend.Legend at 0x7f2e6039a7b8>"
      ]
     },
     "execution_count": 168,
     "metadata": {},
     "output_type": "execute_result"
    },
    {
     "data": {
      "image/png": "[encoded data removed]",
      "text/plain": [
       "<Figure size 432x288 with 1 Axes>"
      ]
     },
     "metadata": {},
     "output_type": "display_data"
    }
   ],
   "source": [
    "pl.scatter(df.Level, df.Salary, color=\"red\", label=\"dataset\")\n",
    "for n in range(2, 9, 2):\n",
    "    pf = PolynomialFeatures(degree=n)\n",
    "    X_poly = pf.fit_transform(X)\n",
    "    model = LinearRegression()\n",
    "    model.fit(X_poly, y)\n",
    "\n",
    "    X_ = np.linspace(1, 10, 100).reshape(-1, 1)\n",
    "    predicted_salary = model.predict(pf.transform(X_))\n",
    "    pl.plot(X_, predicted_salary, label=\"n: %i\" % n)\n",
    "\n",
    "pl.ylabel(\"Salary ($)\")\n",
    "pl.ylabel(\"Level\")\n",
    "pl.legend()"
   ]
  },
  {
   "cell_type": "markdown",
   "metadata": {},
   "source": [
    "### Suport Vector Machine and Kernel trick"
   ]
  },
  {
   "cell_type": "code",
   "execution_count": 154,
   "metadata": {
    "ExecuteTime": {
     "end_time": "2018-10-10T09:28:00.899375Z",
     "start_time": "2018-10-10T09:28:00.023473Z"
    },
    "solution": "hidden"
   },
   "outputs": [
    {
     "name": "stderr",
     "output_type": "stream",
     "text": [
      "/home/nicolas/anaconda3/lib/python3.6/site-packages/sklearn/utils/validation.py:590: DataConversionWarning: Data with input dtype int64 was converted to float64 by StandardScaler.\n",
      "  warnings.warn(msg, DataConversionWarning)\n",
      "/home/nicolas/anaconda3/lib/python3.6/site-packages/sklearn/utils/validation.py:590: DataConversionWarning: Data with input dtype int64 was converted to float64 by StandardScaler.\n",
      "  warnings.warn(msg, DataConversionWarning)\n"
     ]
    },
    {
     "data": {
      "text/plain": [
       "<matplotlib.legend.Legend at 0x7f2e615ea4e0>"
      ]
     },
     "execution_count": 154,
     "metadata": {},
     "output_type": "execute_result"
    },
    {
     "data": {
      "image/png": "[encoded data removed]",
      "text/plain": [
       "<Figure size 432x288 with 1 Axes>"
      ]
     },
     "metadata": {},
     "output_type": "display_data"
    }
   ],
   "source": [
    "from sklearn.svm import SVR\n",
    "\n",
    "sc_X = StandardScaler()\n",
    "sc_y = StandardScaler()\n",
    "X_scaled = sc_X.fit_transform(X)\n",
    "y_scaled = sc_y.fit_transform(y.reshape(-1, 1)).ravel()\n",
    "\n",
    "model = SVR(\"rbf\")\n",
    "model.fit(X_scaled, y_scaled)\n",
    "\n",
    "X_ = np.linspace(1, 10, 100).reshape(-1, 1)\n",
    "predicted_salary = sc_y.inverse_transform(model.predict(sc_X.transform(X_)))\n",
    "\n",
    "pl.scatter(X, y, color=\"red\", label=\"dataset\")\n",
    "pl.plot(X_, predicted_salary, color=\"black\", label=\"prediction\")\n",
    "\n",
    "pl.ylabel(\"Salary ($)\")\n",
    "pl.ylabel(\"Level\")\n",
    "pl.legend()"
   ]
  },
  {
   "cell_type": "markdown",
   "metadata": {},
   "source": [
    "### Decision tree and Random Forest"
   ]
  },
  {
   "cell_type": "code",
   "execution_count": 158,
   "metadata": {
    "ExecuteTime": {
     "end_time": "2018-10-10T09:31:08.386507Z",
     "start_time": "2018-10-10T09:31:07.882756Z"
    }
   },
   "outputs": [
    {
     "data": {
      "text/plain": [
       "<matplotlib.legend.Legend at 0x7f2e607dd860>"
      ]
     },
     "execution_count": 158,
     "metadata": {},
     "output_type": "execute_result"
    },
    {
     "data": {
      "image/png": "[encoded data removed]",
      "text/plain": [
       "<Figure size 432x288 with 1 Axes>"
      ]
     },
     "metadata": {},
     "output_type": "display_data"
    }
   ],
   "source": [
    "from sklearn.tree import DecisionTreeRegressor\n",
    "from sklearn.ensemble import RandomForestRegressor\n",
    "\n",
    "model = RandomForestRegressor()\n",
    "model.fit(X, y)\n",
    "\n",
    "X_ = np.linspace(1, 10, 100).reshape(-1, 1)\n",
    "predicted_salary = model.predict(X_)\n",
    "\n",
    "pl.scatter(X, y, color=\"red\", label=\"dataset\")\n",
    "pl.plot(X_, predicted_salary, color=\"black\", label=\"prediction\")\n",
    "\n",
    "pl.ylabel(\"Salary ($)\")\n",
    "pl.ylabel(\"Level\")\n",
    "pl.legend()"
   ]
  },
  {
   "cell_type": "markdown",
   "metadata": {},
   "source": [
    "### KNN"
   ]
  },
  {
   "cell_type": "code",
   "execution_count": 162,
   "metadata": {
    "ExecuteTime": {
     "end_time": "2018-10-10T09:40:28.037538Z",
     "start_time": "2018-10-10T09:40:27.550494Z"
    }
   },
   "outputs": [
    {
     "data": {
      "text/plain": [
       "<matplotlib.legend.Legend at 0x7f2e605f8fd0>"
      ]
     },
     "execution_count": 162,
     "metadata": {},
     "output_type": "execute_result"
    },
    {
     "data": {
      "image/png": "[encoded data removed]",
      "text/plain": [
       "<Figure size 432x288 with 1 Axes>"
      ]
     },
     "metadata": {},
     "output_type": "display_data"
    }
   ],
   "source": [
    "from sklearn.neighbors import KNeighborsRegressor\n",
    "\n",
    "model = KNeighborsRegressor(n_neighbors=3)\n",
    "model.fit(X, y)\n",
    "\n",
    "X_ = np.linspace(1, 10, 100).reshape(-1, 1)\n",
    "predicted_salary = model.predict(X_)\n",
    "\n",
    "pl.scatter(X, y, color=\"red\", label=\"dataset\")\n",
    "pl.plot(X_, predicted_salary, color=\"black\", label=\"prediction\")\n",
    "\n",
    "pl.ylabel(\"Salary ($)\")\n",
    "pl.ylabel(\"Level\")\n",
    "pl.legend()"
   ]
  },
  {
   "cell_type": "markdown",
   "metadata": {},
   "source": [
    "![](https://imgs.xkcd.com/comics/curve_fitting.png)"
   ]
  },
  {
   "cell_type": "markdown",
   "metadata": {},
   "source": [
    "## Classification - Who has a pickup?"
   ]
  },
  {
   "cell_type": "markdown",
   "metadata": {},
   "source": [
    "In classification, we try to apply a categorical label given some inputs (a yes / no answer).\n",
    "\n",
    "As training, we will be using the `pickup_data.csv` file. It contain a relation between the age, income and if the person has buy a pickup or not."
   ]
  },
  {
   "cell_type": "code",
   "execution_count": 172,
   "metadata": {
    "ExecuteTime": {
     "end_time": "2018-10-10T09:46:53.675989Z",
     "start_time": "2018-10-10T09:46:53.632595Z"
    }
   },
   "outputs": [
    {
     "data": {
      "text/html": [
       "<div>\n",
       "<style scoped>\n",
       "    .dataframe tbody tr th:only-of-type {\n",
       "        vertical-align: middle;\n",
       "    }\n",
       "\n",
       "    .dataframe tbody tr th {\n",
       "        vertical-align: top;\n",
       "    }\n",
       "\n",
       "    .dataframe thead th {\n",
       "        text-align: right;\n",
       "    }\n",
       "</style>\n",
       "<table border=\"1\" class=\"dataframe\">\n",
       "  <thead>\n",
       "    <tr style=\"text-align: right;\">\n",
       "      <th></th>\n",
       "      <th>User ID</th>\n",
       "      <th>Gender</th>\n",
       "      <th>Age</th>\n",
       "      <th>EstimatedSalary</th>\n",
       "      <th>Purchased</th>\n",
       "    </tr>\n",
       "  </thead>\n",
       "  <tbody>\n",
       "    <tr>\n",
       "      <th>0</th>\n",
       "      <td>15624510</td>\n",
       "      <td>Male</td>\n",
       "      <td>19</td>\n",
       "      <td>19000</td>\n",
       "      <td>0</td>\n",
       "    </tr>\n",
       "    <tr>\n",
       "      <th>1</th>\n",
       "      <td>15810944</td>\n",
       "      <td>Male</td>\n",
       "      <td>35</td>\n",
       "      <td>20000</td>\n",
       "      <td>0</td>\n",
       "    </tr>\n",
       "    <tr>\n",
       "      <th>2</th>\n",
       "      <td>15668575</td>\n",
       "      <td>Female</td>\n",
       "      <td>26</td>\n",
       "      <td>43000</td>\n",
       "      <td>0</td>\n",
       "    </tr>\n",
       "    <tr>\n",
       "      <th>3</th>\n",
       "      <td>15603246</td>\n",
       "      <td>Female</td>\n",
       "      <td>27</td>\n",
       "      <td>57000</td>\n",
       "      <td>0</td>\n",
       "    </tr>\n",
       "    <tr>\n",
       "      <th>4</th>\n",
       "      <td>15804002</td>\n",
       "      <td>Male</td>\n",
       "      <td>19</td>\n",
       "      <td>76000</td>\n",
       "      <td>0</td>\n",
       "    </tr>\n",
       "  </tbody>\n",
       "</table>\n",
       "</div>"
      ],
      "text/plain": [
       "    User ID  Gender  Age  EstimatedSalary  Purchased\n",
       "0  15624510    Male   19            19000          0\n",
       "1  15810944    Male   35            20000          0\n",
       "2  15668575  Female   26            43000          0\n",
       "3  15603246  Female   27            57000          0\n",
       "4  15804002    Male   19            76000          0"
      ]
     },
     "execution_count": 172,
     "metadata": {},
     "output_type": "execute_result"
    }
   ],
   "source": [
    "df = pd.read_csv(\"data/pickup_data.csv\")\n",
    "df.head(5)"
   ]
  },
  {
   "cell_type": "code",
   "execution_count": null,
   "metadata": {
    "ExecuteTime": {
     "start_time": "2018-10-12T09:39:08.530Z"
    }
   },
   "outputs": [],
   "source": [
    "def plot_data(X, y):\n",
    "    pl.scatter(*X.T, c=y,\n",
    "               cmap=\"Set1\", marker=\".\")\n",
    "\n",
    "    pl.xlabel('Age')\n",
    "    pl.xlabel('Salary (k\\$)')"
   ]
  },
  {
   "cell_type": "code",
   "execution_count": null,
   "metadata": {},
   "outputs": [],
   "source": []
  },
  {
   "cell_type": "code",
   "execution_count": 173,
   "metadata": {
    "ExecuteTime": {
     "end_time": "2018-10-10T09:47:18.667172Z",
     "start_time": "2018-10-10T09:47:17.920483Z"
    }
   },
   "outputs": [
    {
     "data": {
      "text/plain": [
       "<matplotlib.collections.PathCollection at 0x7f2e602ae898>"
      ]
     },
     "execution_count": 173,
     "metadata": {},
     "output_type": "execute_result"
    },
    {
     "data": {
      "image/png": "[encoded data removed]",
      "text/plain": [
       "<Figure size 432x288 with 1 Axes>"
      ]
     },
     "metadata": {},
     "output_type": "display_data"
    }
   ],
   "source": [
    "pl.scatter(\"Age\", \"EstimatedSalary\", c=\"Purchased\", data=df)"
   ]
  },
  {
   "cell_type": "code",
   "execution_count": null,
   "metadata": {},
   "outputs": [],
   "source": [
    "classifiers = [LogisticRegression(random_state=0),\n",
    "               SVC(kernel=\"rbf\", random_state=0),\n",
    "               GaussianNB(),\n",
    "               DecisionTreeClassifier(criterion='entropy', random_state=0, min_samples_split=20),\n",
    "               RandomForestClassifier(n_estimators=30, n_jobs=4,\n",
    "                                      criterion='entropy',\n",
    "                                      random_state=0, min_samples_split=40),\n",
    "               KNeighborsClassifier(p=2)]\n",
    "names = [\"Logistic Regression\", \"Kernel SVM\", \"Naive Bayes\",\n",
    "         \"Decision Tree\", \"Random Forest\", \"K-Nearest Neighbors\"]\n",
    "\n",
    "fig, axs = pl.subplots(3, 2, sharex=\"all\", sharey=\"all\", figsize=(8, 10))\n",
    "\n",
    "for ax, name, classifier in zip(np.array(axs).flatten(), names, classifiers):\n",
    "    classifier = classifier.fit(X_train, y_train)\n",
    "    y_pred = classifier.predict(X_test)\n",
    "    \n",
    "    cm = confusion_matrix(y_test, y_pred)\n",
    "\n",
    "    N = 1000\n",
    "    x1 = np.linspace(10, 70, N)\n",
    "    x2 = np.linspace(0, 175, N)\n",
    "    X1, X2 = np.meshgrid(x1, x2)\n",
    "    y_grid = classifier.predict(sc.transform(np.hstack([X1.flatten()[:, None],\n",
    "                                                        X2.flatten()[:, None]])))\n",
    "\n",
    "    pl.sca(ax)\n",
    "    pl.contourf(x1, x2, y_grid.reshape((N, N)), cmap=\"Set1\", alpha=.4)\n",
    "    pl.contour(x1, x2, y_grid.reshape((N, N)), colors=\"black\", linestyles=\"--\")\n",
    "    pl.scatter(*X.T, c=y,\n",
    "               cmap=\"Set1\", marker=\".\")\n",
    "    \n",
    "    table = (r\"\\begin{tabular}{ c || c | c } \"\n",
    "             r\"  & +  & - \\\\ \\hline \\hline\"\n",
    "             r\"+ & %i & %i \\\\ \\hline\"\n",
    "             r\"- & %i & %i \\\\\"\n",
    "             r\"\\end{tabular}\") % tuple(cm.flatten().tolist())\n",
    "    pl.text(44, 105, table, size=12, bbox=dict(facecolor='white',\n",
    "                                               edgecolor='black',\n",
    "                                               alpha=.8,\n",
    "                                               pad=10))\n",
    "\n",
    "    pl.title(name)\n",
    "\n",
    "fig.text(0.5, 0.09, 'Age', ha='center', va='center')\n",
    "fig.text(0.07, 0.5, 'Salary (k\\$)', ha='center', va='center', rotation='vertical')\n",
    "fig.savefig(\"classifiers_comparison.png\", dpi=300)"
   ]
  }
 ],
 "metadata": {
  "kernelspec": {
   "display_name": "conda_root",
   "language": "python",
   "name": "conda_root"
  },
  "language_info": {
   "codemirror_mode": {
    "name": "ipython",
    "version": 3
   },
   "file_extension": ".py",
   "mimetype": "text/x-python",
   "name": "python",
   "nbconvert_exporter": "python",
   "pygments_lexer": "ipython3",
   "version": "3.6.5"
  },
  "toc": {
   "base_numbering": 1,
   "nav_menu": {},
   "number_sections": true,
   "sideBar": true,
   "skip_h1_title": true,
   "title_cell": "Table of Contents",
   "title_sidebar": "Contents",
   "toc_cell": true,
   "toc_position": {},
   "toc_section_display": true,
   "toc_window_display": true
  },
  "varInspector": {
   "cols": {
    "lenName": 16,
    "lenType": 16,
    "lenVar": 40
   },
   "kernels_config": {
    "python": {
     "delete_cmd_postfix": "",
     "delete_cmd_prefix": "del ",
     "library": "var_list.py",
     "varRefreshCmd": "print(var_dic_list())"
    },
    "r": {
     "delete_cmd_postfix": ") ",
     "delete_cmd_prefix": "rm(",
     "library": "var_list.r",
     "varRefreshCmd": "cat(var_dic_list()) "
    }
   },
   "types_to_exclude": [
    "module",
    "function",
    "builtin_function_or_method",
    "instance",
    "_Feature"
   ],
   "window_display": false
  }
 },
 "nbformat": 4,
 "nbformat_minor": 2
}
