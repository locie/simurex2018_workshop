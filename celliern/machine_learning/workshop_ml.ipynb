{
 "cells": [
  {
   "cell_type": "markdown",
   "metadata": {
    "toc": true
   },
   "source": [
    "<h1>Table of Contents<span class=\"tocSkip\"></span></h1>\n",
    "<div class=\"toc\"><ul class=\"toc-item\"><li><span><a href=\"#What-is-machine-learning-?\" data-toc-modified-id=\"What-is-machine-learning-?-1\"><span class=\"toc-item-num\">1&nbsp;&nbsp;</span>What is machine learning ?</a></span><ul class=\"toc-item\"><li><span><a href=\"#What-about-a-quick-example?\" data-toc-modified-id=\"What-about-a-quick-example?-1.1\"><span class=\"toc-item-num\">1.1&nbsp;&nbsp;</span>What about a quick example?</a></span></li></ul></li><li><span><a href=\"#Prepare-your-data\" data-toc-modified-id=\"Prepare-your-data-2\"><span class=\"toc-item-num\">2&nbsp;&nbsp;</span>Prepare your data</a></span><ul class=\"toc-item\"><li><span><a href=\"#Clean-and-process-your-data\" data-toc-modified-id=\"Clean-and-process-your-data-2.1\"><span class=\"toc-item-num\">2.1&nbsp;&nbsp;</span>Clean and process your data</a></span><ul class=\"toc-item\"><li><span><a href=\"#Scaling-the-data\" data-toc-modified-id=\"Scaling-the-data-2.1.1\"><span class=\"toc-item-num\">2.1.1&nbsp;&nbsp;</span>Scaling the data</a></span></li><li><span><a href=\"#Deal-with-named-label-and-categorical-data\" data-toc-modified-id=\"Deal-with-named-label-and-categorical-data-2.1.2\"><span class=\"toc-item-num\">2.1.2&nbsp;&nbsp;</span>Deal with named label and categorical data</a></span></li><li><span><a href=\"#Full-tipsy-pre-processing\" data-toc-modified-id=\"Full-tipsy-pre-processing-2.1.3\"><span class=\"toc-item-num\">2.1.3&nbsp;&nbsp;</span>Full tipsy pre-processing</a></span></li></ul></li><li><span><a href=\"#Feature-engineering\" data-toc-modified-id=\"Feature-engineering-2.2\"><span class=\"toc-item-num\">2.2&nbsp;&nbsp;</span>Feature engineering</a></span><ul class=\"toc-item\"><li><span><a href=\"#Dimension-reduction\" data-toc-modified-id=\"Dimension-reduction-2.2.1\"><span class=\"toc-item-num\">2.2.1&nbsp;&nbsp;</span>Dimension reduction</a></span><ul class=\"toc-item\"><li><span><a href=\"#Principal-Component-Analysis\" data-toc-modified-id=\"Principal-Component-Analysis-2.2.1.1\"><span class=\"toc-item-num\">2.2.1.1&nbsp;&nbsp;</span>Principal Component Analysis</a></span></li><li><span><a href=\"#Sensitivity-Analysis\" data-toc-modified-id=\"Sensitivity-Analysis-2.2.1.2\"><span class=\"toc-item-num\">2.2.1.2&nbsp;&nbsp;</span>Sensitivity Analysis</a></span></li></ul></li></ul></li></ul></li><li><span><a href=\"#Regression\" data-toc-modified-id=\"Regression-3\"><span class=\"toc-item-num\">3&nbsp;&nbsp;</span>Regression</a></span><ul class=\"toc-item\"><li><span><a href=\"#Multivariate-Linear-Regression\" data-toc-modified-id=\"Multivariate-Linear-Regression-3.1\"><span class=\"toc-item-num\">3.1&nbsp;&nbsp;</span>Multivariate Linear Regression</a></span></li><li><span><a href=\"#Suport-Vector-Machine-and-Kernel-trick\" data-toc-modified-id=\"Suport-Vector-Machine-and-Kernel-trick-3.2\"><span class=\"toc-item-num\">3.2&nbsp;&nbsp;</span>Suport Vector Machine and Kernel trick</a></span></li><li><span><a href=\"#Decision-tree-and-Random-Forest\" data-toc-modified-id=\"Decision-tree-and-Random-Forest-3.3\"><span class=\"toc-item-num\">3.3&nbsp;&nbsp;</span>Decision tree and Random Forest</a></span></li></ul></li><li><span><a href=\"#Classification---Who-has-a-pickup?\" data-toc-modified-id=\"Classification---Who-has-a-pickup?-4\"><span class=\"toc-item-num\">4&nbsp;&nbsp;</span>Classification - Who has a pickup?</a></span></li></ul></div>"
   ]
  },
  {
   "cell_type": "code",
   "execution_count": 72,
   "metadata": {
    "ExecuteTime": {
     "end_time": "2018-10-09T12:04:31.899630Z",
     "start_time": "2018-10-09T12:04:31.890222Z"
    }
   },
   "outputs": [],
   "source": [
    "import warnings\n",
    "warnings.filterwarnings(\"ignore\")"
   ]
  },
  {
   "cell_type": "markdown",
   "metadata": {},
   "source": [
    "# A quick introduction to Machine Learning\n",
    "**SIMUREX 2018 Workshop**\n",
    "\n",
    "*Nicolas Cellier*\n",
    "\n",
    "Disclaimer :\n"
   ]
  },
  {
   "cell_type": "markdown",
   "metadata": {},
   "source": [
    "## What is machine learning ?\n",
    "\n",
    "Give to computer the ability to \"learn\" how to do prediction without explicitly programmed. Instead, it \"evolves\" thanks to external data.\n",
    "\n",
    "They exists two kind of ML algorithm :\n",
    "- Regression: given some data, we try to predict the value of the output.\n",
    "- Classification: given some data, we try to classify the output between category.\n",
    "\n",
    "These last ones can be :\n",
    "- Supervised: we have some labeled samples.\n",
    "- Unsupervised: we do not know the category, the algorithm have to guess how to separate the samples.\n",
    "\n",
    "*Some vocabulary (mine, not universal)*\n",
    "\n",
    "- Model: an application that, given some inputs X return one or more output y.\n",
    "- Feature: an input variable used in making predictions.\n",
    "- Label: in supervised learning, the \"answer\" or \"result\" portion of an example.\n",
    "- Example or sample: one row of a data set. An example contains one or more features and possibly a label.\n",
    "- Set: a serie of examples\n",
    "- Training set: the subset of the data set used to train a model.\n",
    "- Validation set: a subset of the data set —disjunct from the training set— that you use to adjust hyperparameters.\n",
    "- Parameter: a variable of a model that the ML system trains on its own. For example, weights are parameters whose values the ML system gradually learns through successive training iterations.\n",
    "- Hyperparameter: the \"knobs\" that you tweak during successive runs of training a model"
   ]
  },
  {
   "cell_type": "markdown",
   "metadata": {},
   "source": [
    "### What about a quick example?\n",
    "\n",
    "The simplest ML algorithm : *The linear regression*\n",
    "\n",
    "The data will be the tip amount in a restaurant : we will try to predict how many people tip, given some data and especialy their total bill."
   ]
  },
  {
   "cell_type": "code",
   "execution_count": 18,
   "metadata": {
    "ExecuteTime": {
     "end_time": "2018-10-09T11:25:44.462848Z",
     "start_time": "2018-10-09T11:25:44.451061Z"
    }
   },
   "outputs": [],
   "source": [
    "import pandas as pd\n",
    "import pylab as pl\n",
    "pl.style.use(\"publication\")\n",
    "\n",
    "%matplotlib inline"
   ]
  },
  {
   "cell_type": "code",
   "execution_count": 23,
   "metadata": {
    "ExecuteTime": {
     "end_time": "2018-10-09T11:27:40.615442Z",
     "start_time": "2018-10-09T11:27:40.489561Z"
    }
   },
   "outputs": [
    {
     "data": {
      "text/html": [
       "<div>\n",
       "<style scoped>\n",
       "    .dataframe tbody tr th:only-of-type {\n",
       "        vertical-align: middle;\n",
       "    }\n",
       "\n",
       "    .dataframe tbody tr th {\n",
       "        vertical-align: top;\n",
       "    }\n",
       "\n",
       "    .dataframe thead th {\n",
       "        text-align: right;\n",
       "    }\n",
       "</style>\n",
       "<table border=\"1\" class=\"dataframe\">\n",
       "  <thead>\n",
       "    <tr style=\"text-align: right;\">\n",
       "      <th></th>\n",
       "      <th>total_bill</th>\n",
       "      <th>tip</th>\n",
       "      <th>sex</th>\n",
       "      <th>smoker</th>\n",
       "      <th>day</th>\n",
       "      <th>time</th>\n",
       "      <th>size</th>\n",
       "    </tr>\n",
       "  </thead>\n",
       "  <tbody>\n",
       "    <tr>\n",
       "      <th>0</th>\n",
       "      <td>16.99</td>\n",
       "      <td>1.01</td>\n",
       "      <td>Female</td>\n",
       "      <td>No</td>\n",
       "      <td>Sun</td>\n",
       "      <td>Dinner</td>\n",
       "      <td>2</td>\n",
       "    </tr>\n",
       "    <tr>\n",
       "      <th>1</th>\n",
       "      <td>10.34</td>\n",
       "      <td>1.66</td>\n",
       "      <td>Male</td>\n",
       "      <td>No</td>\n",
       "      <td>Sun</td>\n",
       "      <td>Dinner</td>\n",
       "      <td>3</td>\n",
       "    </tr>\n",
       "    <tr>\n",
       "      <th>2</th>\n",
       "      <td>21.01</td>\n",
       "      <td>3.50</td>\n",
       "      <td>Male</td>\n",
       "      <td>No</td>\n",
       "      <td>Sun</td>\n",
       "      <td>Dinner</td>\n",
       "      <td>3</td>\n",
       "    </tr>\n",
       "    <tr>\n",
       "      <th>3</th>\n",
       "      <td>23.68</td>\n",
       "      <td>3.31</td>\n",
       "      <td>Male</td>\n",
       "      <td>No</td>\n",
       "      <td>Sun</td>\n",
       "      <td>Dinner</td>\n",
       "      <td>2</td>\n",
       "    </tr>\n",
       "    <tr>\n",
       "      <th>4</th>\n",
       "      <td>24.59</td>\n",
       "      <td>3.61</td>\n",
       "      <td>Female</td>\n",
       "      <td>No</td>\n",
       "      <td>Sun</td>\n",
       "      <td>Dinner</td>\n",
       "      <td>4</td>\n",
       "    </tr>\n",
       "  </tbody>\n",
       "</table>\n",
       "</div>"
      ],
      "text/plain": [
       "   total_bill   tip     sex smoker  day    time  size\n",
       "0       16.99  1.01  Female     No  Sun  Dinner     2\n",
       "1       10.34  1.66    Male     No  Sun  Dinner     3\n",
       "2       21.01  3.50    Male     No  Sun  Dinner     3\n",
       "3       23.68  3.31    Male     No  Sun  Dinner     2\n",
       "4       24.59  3.61  Female     No  Sun  Dinner     4"
      ]
     },
     "execution_count": 23,
     "metadata": {},
     "output_type": "execute_result"
    }
   ],
   "source": [
    "# The data is available via the seaborn stat package\n",
    "dataframe = sns.load_dataset(\"tips\")\n",
    "dataframe.head(5)"
   ]
  },
  {
   "cell_type": "code",
   "execution_count": 25,
   "metadata": {
    "ExecuteTime": {
     "end_time": "2018-10-09T11:27:54.713648Z",
     "start_time": "2018-10-09T11:27:53.506079Z"
    }
   },
   "outputs": [
    {
     "data": {
      "image/png": "[encoded data removed]",
      "text/plain": [
       "<Figure size 432x288 with 1 Axes>"
      ]
     },
     "metadata": {},
     "output_type": "display_data"
    }
   ],
   "source": [
    "# We plot the data\n",
    "dataframe.plot(\"total_bill\", \"tip\", kind=\"scatter\");"
   ]
  },
  {
   "cell_type": "markdown",
   "metadata": {},
   "source": [
    "Here, the `total_bill` is the only *feature* `x`, and `tip` is the *label* `y`. We will try to train an algorithm to predict the later with the former.\n",
    "\n",
    "A monovariate linear regression try to adjust the *parameters* `a` and `b` in the equation\n",
    "\n",
    "$y = a x + b$\n",
    "\n",
    "This very simple algorithm have no hyperparameter, and you can manually adjust the weights with a ruler.\n",
    "\n",
    "Let's see how to do this with `scikit-learn` !"
   ]
  },
  {
   "cell_type": "code",
   "execution_count": 45,
   "metadata": {
    "ExecuteTime": {
     "end_time": "2018-10-09T11:53:23.766261Z",
     "start_time": "2018-10-09T11:53:23.757571Z"
    }
   },
   "outputs": [],
   "source": [
    "from sklearn.linear_model import LinearRegression\n",
    "from sklearn.model_selection import train_test_split\n",
    "from sklearn.metrics import mean_squared_error, r2_score"
   ]
  },
  {
   "cell_type": "markdown",
   "metadata": {},
   "source": [
    "First, we have to get the feature column X, with a shape (n samples, n features). In our case, a shape (n samples, 1).\n",
    "\n",
    "The label vector will be a simple row."
   ]
  },
  {
   "cell_type": "code",
   "execution_count": 36,
   "metadata": {
    "ExecuteTime": {
     "end_time": "2018-10-09T11:48:52.196079Z",
     "start_time": "2018-10-09T11:48:52.187654Z"
    }
   },
   "outputs": [],
   "source": [
    "X = dataframe.total_bill.values.reshape(-1, 1)\n",
    "y = dataframe.tip.values"
   ]
  },
  {
   "cell_type": "markdown",
   "metadata": {},
   "source": [
    "Then, we have to split the examples into two set: a *training set* and a *test set*. The first one will fed the model, and the second will be used to test the model predictions.\n",
    "\n",
    "By default, 1 / 4 is used for testing, 3 / 4 to fit the model."
   ]
  },
  {
   "cell_type": "code",
   "execution_count": 56,
   "metadata": {
    "ExecuteTime": {
     "end_time": "2018-10-09T11:57:55.941380Z",
     "start_time": "2018-10-09T11:57:55.931900Z"
    }
   },
   "outputs": [],
   "source": [
    "X_train, X_test, y_train, y_test = train_test_split(X, y)"
   ]
  },
  {
   "cell_type": "markdown",
   "metadata": {},
   "source": [
    "We can then initialize our model, feed it with our training set and show the prediction."
   ]
  },
  {
   "cell_type": "code",
   "execution_count": 57,
   "metadata": {
    "ExecuteTime": {
     "end_time": "2018-10-09T11:57:57.667114Z",
     "start_time": "2018-10-09T11:57:56.362703Z"
    }
   },
   "outputs": [
    {
     "data": {
      "image/png": "[encoded data removed]",
      "text/plain": [
       "<Figure size 432x288 with 1 Axes>"
      ]
     },
     "metadata": {},
     "output_type": "display_data"
    }
   ],
   "source": [
    "linear_reg = LinearRegression()\n",
    "linear_reg.fit(X_train, y_train)\n",
    "\n",
    "# We create a evenly spaced total_bills for prediction\n",
    "x_ = np.linspace(X.min(), X.max(), 100).reshape(-1, 1)\n",
    "# We ask our model to predict what sould be the tip\n",
    "y_ = linear_reg.predict(x_)\n",
    "\n",
    "dataframe.plot(\"total_bill\", \"tip\", kind=\"scatter\");\n",
    "pl.plot(x_, y_, color=\"red\", linewidth=5)\n",
    "pl.xlabel(\"total bill\")\n",
    "pl.ylabel(\"tip\");"
   ]
  },
  {
   "cell_type": "markdown",
   "metadata": {},
   "source": [
    "To have a quantification of the quality of our model, we can use the $R^2$ (closest to 1 the better), or the mean squared error (less the better). They have to run on the *test set*."
   ]
  },
  {
   "cell_type": "code",
   "execution_count": 60,
   "metadata": {
    "ExecuteTime": {
     "end_time": "2018-10-09T11:58:07.599763Z",
     "start_time": "2018-10-09T11:58:07.588359Z"
    }
   },
   "outputs": [
    {
     "name": "stdout",
     "output_type": "stream",
     "text": [
      "Mean squared error: 0.870169\n",
      "R²: 0.422985\n"
     ]
    }
   ],
   "source": [
    "print(f\"Mean squared error: {mean_squared_error(y_test, linear_reg.predict(X_test)):g}\")\n",
    "print(f\"R²: {r2_score(y_test, linear_reg.predict(X_test)):g}\")"
   ]
  },
  {
   "cell_type": "markdown",
   "metadata": {},
   "source": [
    "The results are not very good : a simple algorithm on only one feature may not be enough."
   ]
  },
  {
   "cell_type": "markdown",
   "metadata": {},
   "source": [
    "## Prepare your data\n",
    "\n",
    "One important then often forgotten step is the data pre-processing.\n",
    "\n",
    "You have to ensure to have clean input data first, then work on it to improve the algorithms performance."
   ]
  },
  {
   "cell_type": "markdown",
   "metadata": {},
   "source": [
    "### Clean and process your data\n",
    "\n",
    "Because we use well known and clean dataset, cleaning the data will not be aborded here, but be carefull with\n",
    "\n",
    "- encoding (UTF8, latin-1, ascii ?)\n",
    "- Case specificity for string\n",
    "- Outliers\n",
    "- Non-aligned datetime\n",
    "- ...\n",
    "\n",
    "Which are non-trivial for real-life data and that can take a lot of time.\n",
    "\n",
    "For the processing, the main points are :\n",
    "\n",
    "#### Scaling the data\n",
    "\n",
    "A lot of algorithms depend of the input ranges : using a feature with a huge delta will have more importance that one with a smaller range.\n",
    "\n",
    "Solution : remove the mean and scale to unit variance\n",
    "\n",
    "Lucky us : this is available in scikit-learn via the `StandardScaler`."
   ]
  },
  {
   "cell_type": "code",
   "execution_count": 87,
   "metadata": {
    "ExecuteTime": {
     "end_time": "2018-10-09T12:10:54.583165Z",
     "start_time": "2018-10-09T12:10:54.579015Z"
    }
   },
   "outputs": [],
   "source": [
    "from sklearn.preprocessing import StandardScaler"
   ]
  },
  {
   "cell_type": "code",
   "execution_count": 88,
   "metadata": {
    "ExecuteTime": {
     "end_time": "2018-10-09T12:10:55.869234Z",
     "start_time": "2018-10-09T12:10:55.076723Z"
    }
   },
   "outputs": [
    {
     "data": {
      "text/plain": [
       "<matplotlib.collections.PathCollection at 0x7f62f787eb38>"
      ]
     },
     "execution_count": 88,
     "metadata": {},
     "output_type": "execute_result"
    },
    {
     "data": {
      "image/png": "[encoded data removed]",
      "text/plain": [
       "<Figure size 504x216 with 2 Axes>"
      ]
     },
     "metadata": {},
     "output_type": "display_data"
    }
   ],
   "source": [
    "sc = StandardScaler()\n",
    "X_scaled = sc.fit_transform(X)\n",
    "\n",
    "fig, axs = pl.subplots(1, 2, figsize=(7, 3))\n",
    "axs[0].scatter(X, y)\n",
    "axs[1].scatter(X_scaled, y)"
   ]
  },
  {
   "cell_type": "markdown",
   "metadata": {},
   "source": [
    "This object allows us to reverse the scaling :"
   ]
  },
  {
   "cell_type": "code",
   "execution_count": 89,
   "metadata": {
    "ExecuteTime": {
     "end_time": "2018-10-09T12:10:57.394739Z",
     "start_time": "2018-10-09T12:10:57.383889Z"
    }
   },
   "outputs": [
    {
     "data": {
      "text/plain": [
       "True"
      ]
     },
     "execution_count": 89,
     "metadata": {},
     "output_type": "execute_result"
    }
   ],
   "source": [
    "np.isclose(sc.inverse_transform(X_scaled), X).all()"
   ]
  },
  {
   "cell_type": "markdown",
   "metadata": {},
   "source": [
    "#### Deal with named label and categorical data"
   ]
  },
  {
   "cell_type": "code",
   "execution_count": 110,
   "metadata": {
    "ExecuteTime": {
     "end_time": "2018-10-09T12:36:33.360006Z",
     "start_time": "2018-10-09T12:36:33.352345Z"
    }
   },
   "outputs": [
    {
     "data": {
      "text/plain": [
       "69       Male\n",
       "29     Female\n",
       "55       Male\n",
       "226    Female\n",
       "153      Male\n",
       "Name: sex, dtype: category\n",
       "Categories (2, object): [Male, Female]"
      ]
     },
     "execution_count": 110,
     "metadata": {},
     "output_type": "execute_result"
    }
   ],
   "source": [
    "dataframe.sex.sample(5)"
   ]
  },
  {
   "cell_type": "markdown",
   "metadata": {},
   "source": [
    "Algorithm does not deal well with strings. A simple way to deal with that is to assign each category with an integer."
   ]
  },
  {
   "cell_type": "code",
   "execution_count": 97,
   "metadata": {
    "ExecuteTime": {
     "end_time": "2018-10-09T12:33:24.871167Z",
     "start_time": "2018-10-09T12:33:24.863256Z"
    }
   },
   "outputs": [],
   "source": [
    "from sklearn.preprocessing import OrdinalEncoder"
   ]
  },
  {
   "cell_type": "code",
   "execution_count": 151,
   "metadata": {
    "ExecuteTime": {
     "end_time": "2018-10-09T13:01:18.898106Z",
     "start_time": "2018-10-09T13:01:18.883193Z"
    }
   },
   "outputs": [
    {
     "name": "stdout",
     "output_type": "stream",
     "text": [
      "[[0.]\n",
      " [1.]\n",
      " [1.]\n",
      " [1.]\n",
      " [0.]]\n",
      "[['Female']\n",
      " ['Male']\n",
      " ['Male']\n",
      " ['Male']\n",
      " ['Female']]\n"
     ]
    }
   ],
   "source": [
    "ce = OrdinalEncoder()\n",
    "Xsex = ce.fit_transform(dataframe[[\"sex\"]])\n",
    "print(Xsex[:5])\n",
    "print(ce.inverse_transform(Xsex[:5]))"
   ]
  },
  {
   "cell_type": "markdown",
   "metadata": {},
   "source": [
    "Hourray ! We can use this as model input now.\n",
    "\n",
    "But what about the week days?"
   ]
  },
  {
   "cell_type": "code",
   "execution_count": 109,
   "metadata": {
    "ExecuteTime": {
     "end_time": "2018-10-09T12:36:26.006333Z",
     "start_time": "2018-10-09T12:36:25.991941Z"
    }
   },
   "outputs": [
    {
     "data": {
      "text/plain": [
       "105     Sat\n",
       "210     Sat\n",
       "176     Sun\n",
       "23      Sat\n",
       "77     Thur\n",
       "Name: day, dtype: category\n",
       "Categories (4, object): [Thur, Fri, Sat, Sun]"
      ]
     },
     "execution_count": 109,
     "metadata": {},
     "output_type": "execute_result"
    }
   ],
   "source": [
    "dataframe.day.sample(5)"
   ]
  },
  {
   "cell_type": "markdown",
   "metadata": {},
   "source": [
    "***Do not do that***"
   ]
  },
  {
   "cell_type": "code",
   "execution_count": 150,
   "metadata": {
    "ExecuteTime": {
     "end_time": "2018-10-09T13:01:14.281664Z",
     "start_time": "2018-10-09T13:01:14.266519Z"
    }
   },
   "outputs": [
    {
     "name": "stdout",
     "output_type": "stream",
     "text": [
      "[[2.]\n",
      " [2.]\n",
      " [2.]\n",
      " [2.]\n",
      " [2.]]\n",
      "[['Sun']\n",
      " ['Sun']\n",
      " ['Sun']\n",
      " ['Sun']\n",
      " ['Sun']]\n"
     ]
    }
   ],
   "source": [
    "ce = OrdinalEncoder()\n",
    "Xday = ce.fit_transform(dataframe[[\"day\"]])\n",
    "print(Xday[:5])\n",
    "print(ce.inverse_transform(Xday[:5]))"
   ]
  },
  {
   "cell_type": "markdown",
   "metadata": {},
   "source": [
    "Some day of the week will be interpreted as having more importance that other"
   ]
  },
  {
   "cell_type": "code",
   "execution_count": 119,
   "metadata": {
    "ExecuteTime": {
     "end_time": "2018-10-09T12:40:15.308216Z",
     "start_time": "2018-10-09T12:40:15.296789Z"
    }
   },
   "outputs": [
    {
     "data": {
      "text/plain": [
       "array([['Fri'],\n",
       "       ['Sat'],\n",
       "       ['Sun'],\n",
       "       ['Thur']], dtype=object)"
      ]
     },
     "execution_count": 119,
     "metadata": {},
     "output_type": "execute_result"
    }
   ],
   "source": [
    "ce.inverse_transform([[0], [1], [2], [3]])"
   ]
  },
  {
   "cell_type": "markdown",
   "metadata": {},
   "source": [
    "Solution : *assign one column per category, which have 0 or 1 as values*, Available via the `OneHotEncoder`!"
   ]
  },
  {
   "cell_type": "code",
   "execution_count": 120,
   "metadata": {
    "ExecuteTime": {
     "end_time": "2018-10-09T12:41:17.807813Z",
     "start_time": "2018-10-09T12:41:17.800340Z"
    }
   },
   "outputs": [],
   "source": [
    "from sklearn.preprocessing import OneHotEncoder"
   ]
  },
  {
   "cell_type": "code",
   "execution_count": 149,
   "metadata": {
    "ExecuteTime": {
     "end_time": "2018-10-09T13:01:01.406938Z",
     "start_time": "2018-10-09T13:01:01.387699Z"
    }
   },
   "outputs": [
    {
     "data": {
      "text/plain": [
       "array([['Sun', 0.0, 0.0, 1.0, 0.0],\n",
       "       ['Sun', 0.0, 0.0, 1.0, 0.0],\n",
       "       ['Sun', 0.0, 0.0, 1.0, 0.0],\n",
       "       ...,\n",
       "       ['Sat', 0.0, 1.0, 0.0, 0.0],\n",
       "       ['Sat', 0.0, 1.0, 0.0, 0.0],\n",
       "       ['Thur', 0.0, 0.0, 0.0, 1.0]], dtype=object)"
      ]
     },
     "execution_count": 149,
     "metadata": {},
     "output_type": "execute_result"
    }
   ],
   "source": [
    "ohe = OneHotEncoder()\n",
    "Xday = ohe.fit_transform(dataframe[[\"day\"]])\n",
    "np.concatenate([dataframe[[\"day\"]], Xday.A], axis=1)"
   ]
  },
  {
   "cell_type": "markdown",
   "metadata": {},
   "source": [
    "#### Full tipsy pre-processing"
   ]
  },
  {
   "cell_type": "code",
   "execution_count": 148,
   "metadata": {
    "ExecuteTime": {
     "end_time": "2018-10-09T12:59:17.067076Z",
     "start_time": "2018-10-09T12:59:17.029004Z"
    }
   },
   "outputs": [
    {
     "data": {
      "text/html": [
       "<div>\n",
       "<style scoped>\n",
       "    .dataframe tbody tr th:only-of-type {\n",
       "        vertical-align: middle;\n",
       "    }\n",
       "\n",
       "    .dataframe tbody tr th {\n",
       "        vertical-align: top;\n",
       "    }\n",
       "\n",
       "    .dataframe thead th {\n",
       "        text-align: right;\n",
       "    }\n",
       "</style>\n",
       "<table border=\"1\" class=\"dataframe\">\n",
       "  <thead>\n",
       "    <tr style=\"text-align: right;\">\n",
       "      <th></th>\n",
       "      <th>total_bill</th>\n",
       "      <th>tip</th>\n",
       "      <th>sex</th>\n",
       "      <th>smoker</th>\n",
       "      <th>day</th>\n",
       "      <th>time</th>\n",
       "      <th>size</th>\n",
       "    </tr>\n",
       "  </thead>\n",
       "  <tbody>\n",
       "    <tr>\n",
       "      <th>0</th>\n",
       "      <td>16.99</td>\n",
       "      <td>1.01</td>\n",
       "      <td>Female</td>\n",
       "      <td>No</td>\n",
       "      <td>Sun</td>\n",
       "      <td>Dinner</td>\n",
       "      <td>2</td>\n",
       "    </tr>\n",
       "    <tr>\n",
       "      <th>1</th>\n",
       "      <td>10.34</td>\n",
       "      <td>1.66</td>\n",
       "      <td>Male</td>\n",
       "      <td>No</td>\n",
       "      <td>Sun</td>\n",
       "      <td>Dinner</td>\n",
       "      <td>3</td>\n",
       "    </tr>\n",
       "  </tbody>\n",
       "</table>\n",
       "</div>"
      ],
      "text/plain": [
       "   total_bill   tip     sex smoker  day    time  size\n",
       "0       16.99  1.01  Female     No  Sun  Dinner     2\n",
       "1       10.34  1.66    Male     No  Sun  Dinner     3"
      ]
     },
     "execution_count": 148,
     "metadata": {},
     "output_type": "execute_result"
    }
   ],
   "source": [
    "dataframe.head(2)"
   ]
  },
  {
   "cell_type": "code",
   "execution_count": 322,
   "metadata": {
    "ExecuteTime": {
     "end_time": "2018-10-09T14:32:04.863028Z",
     "start_time": "2018-10-09T14:32:04.826101Z"
    }
   },
   "outputs": [
    {
     "data": {
      "text/plain": [
       "(244, 10)"
      ]
     },
     "execution_count": 322,
     "metadata": {},
     "output_type": "execute_result"
    }
   ],
   "source": [
    "sc = StandardScaler()\n",
    "oc_sex = OrdinalEncoder()\n",
    "oc_smoke = OrdinalEncoder()\n",
    "ohe_day = OneHotEncoder(sparse=False)\n",
    "ohe_time = OneHotEncoder(sparse=False)\n",
    "X1 = dataframe[[\"total_bill\"]]\n",
    "X2 = oc_sex.fit_transform(dataframe[[\"sex\"]])\n",
    "X3 = oc_smoke.fit_transform(dataframe[[\"smoker\"]])\n",
    "X4 = ohe_day.fit_transform(dataframe[[\"day\"]])\n",
    "X5 = ohe_time.fit_transform(dataframe[[\"time\"]])\n",
    "X6 = dataframe[[\"size\"]]\n",
    "\n",
    "X = sc.fit_transform(np.concatenate([X1, X2, X3, X4, X5, X6], axis=1))\n",
    "X.shape"
   ]
  },
  {
   "cell_type": "code",
   "execution_count": 323,
   "metadata": {
    "ExecuteTime": {
     "end_time": "2018-10-09T14:32:08.026873Z",
     "start_time": "2018-10-09T14:32:08.018093Z"
    }
   },
   "outputs": [],
   "source": [
    "y = dataframe[[\"tip\"]]"
   ]
  },
  {
   "cell_type": "markdown",
   "metadata": {},
   "source": [
    "### Feature engineering"
   ]
  },
  {
   "cell_type": "markdown",
   "metadata": {},
   "source": [
    "***We are not google***\n",
    "\n",
    "![](https://imgs.xkcd.com/comics/machine_learning.png)\n",
    "\n",
    "We cannot afford that huge clusters, or Petabytes of data. We need to be clever.\n",
    "\n",
    "Moreover, we need to deal with the [Curse of dimensionality](https://en.wikipedia.org/wiki/Curse_of_dimensionality) : A typical rule of thumb is that there should be at least 5 training examples for each dimension in the representation. (in our case, 50. We are good !).\n",
    "\n",
    "It's great to try to reduce the number of features, or to transform them to increase their relevance.\n",
    "\n",
    "Time series are very great examples : instead of having one input per hour (or minutes / seconds), we can instead use the main Fourier modes, which will give us information on periodicity."
   ]
  },
  {
   "cell_type": "markdown",
   "metadata": {},
   "source": [
    "#### Dimension reduction\n",
    "\n",
    "##### Principal Component Analysis\n",
    "\n",
    "Is a tool that allow to transform correlated input variables into linearly uncorrelated variables called principal components.\n",
    "\n",
    "It can be used to heavily reduce the dimensionality input yet keeping some distance properties intact."
   ]
  },
  {
   "cell_type": "code",
   "execution_count": 185,
   "metadata": {
    "ExecuteTime": {
     "end_time": "2018-10-09T13:28:01.619510Z",
     "start_time": "2018-10-09T13:28:01.611286Z"
    }
   },
   "outputs": [],
   "source": [
    "from sklearn.decomposition import PCA"
   ]
  },
  {
   "cell_type": "code",
   "execution_count": 260,
   "metadata": {
    "ExecuteTime": {
     "end_time": "2018-10-09T14:06:03.915032Z",
     "start_time": "2018-10-09T14:06:03.864265Z"
    }
   },
   "outputs": [],
   "source": [
    "pca = PCA(n_components=2)\n",
    "X_reduced = pca.fit_transform(X)"
   ]
  },
  {
   "cell_type": "markdown",
   "metadata": {},
   "source": [
    "##### Sensitivity Analysis\n",
    "\n",
    "In case of sensitivity analysis, we try to quantify how much each $X_i$ variance in responsible of the $y$ variance.\n",
    "\n",
    "Results can be given with sensitivity analysis, defined between 0 and 1 (0 ~ no impact, 1 ~ max impact).\n",
    "\n",
    "Different algorithm, most of them available via SALib.\n",
    "\n",
    "`rbd-fast` is one of them needing the less of examples to work.\n",
    "\n",
    "Should need a proper sampling (Latin-Hypercube-Sampling), but can give some clue even with badly sampled examples (as ours...)."
   ]
  },
  {
   "cell_type": "code",
   "execution_count": 188,
   "metadata": {
    "ExecuteTime": {
     "end_time": "2018-10-09T13:35:28.832101Z",
     "start_time": "2018-10-09T13:35:28.726908Z"
    }
   },
   "outputs": [],
   "source": [
    "from SALib.analyze import rbd_fast"
   ]
  },
  {
   "cell_type": "code",
   "execution_count": 190,
   "metadata": {
    "ExecuteTime": {
     "end_time": "2018-10-09T13:37:36.351985Z",
     "start_time": "2018-10-09T13:37:36.332942Z"
    }
   },
   "outputs": [
    {
     "data": {
      "text/plain": [
       "{'S1': [0.4149051444220548,\n",
       "  -0.01868736792909788,\n",
       "  0.016401176235205997,\n",
       "  -0.00910127255078945,\n",
       "  -0.015199404078285558,\n",
       "  -0.005410089828415385,\n",
       "  0.038828889925987015,\n",
       "  0.012412447022540352,\n",
       "  0.002121662377185571]}"
      ]
     },
     "execution_count": 190,
     "metadata": {},
     "output_type": "execute_result"
    }
   ],
   "source": [
    "problem = {\n",
    "    'num_vars': 9,\n",
    "    'names': ['x%i' for i in range(9)],\n",
    "    'bounds': [(X[:, i].min(), X[:, i].max()) for i in range(9)]\n",
    "}\n",
    "\n",
    "rbd_fast.analyze(problem, y, X)"
   ]
  },
  {
   "cell_type": "markdown",
   "metadata": {},
   "source": [
    "First parameter (total bill) seems to have a strong influence, other one neglectible, but... it explain only 40% of the output variance!\n",
    "\n",
    "**There is strong crossed interaction between our parameters**\n",
    "\n",
    "Without the possibility to have more data with proper sampling, we have to keep them all !"
   ]
  },
  {
   "cell_type": "markdown",
   "metadata": {},
   "source": [
    "## Regression"
   ]
  },
  {
   "cell_type": "markdown",
   "metadata": {},
   "source": [
    "A regression is a model that try to predict a numerical value from some inputs. In out case, predict our tip with our bill and some customers data."
   ]
  },
  {
   "cell_type": "code",
   "execution_count": 324,
   "metadata": {
    "ExecuteTime": {
     "end_time": "2018-10-09T14:32:13.931601Z",
     "start_time": "2018-10-09T14:32:13.922171Z"
    }
   },
   "outputs": [],
   "source": [
    "X_train, X_test, y_train, y_test = train_test_split(X, y)"
   ]
  },
  {
   "cell_type": "markdown",
   "metadata": {},
   "source": [
    "### Multivariate Linear Regression"
   ]
  },
  {
   "cell_type": "code",
   "execution_count": 325,
   "metadata": {
    "ExecuteTime": {
     "end_time": "2018-10-09T14:32:14.571451Z",
     "start_time": "2018-10-09T14:32:14.556135Z"
    }
   },
   "outputs": [],
   "source": [
    "from sklearn.linear_model import LinearRegression"
   ]
  },
  {
   "cell_type": "code",
   "execution_count": 327,
   "metadata": {
    "ExecuteTime": {
     "end_time": "2018-10-09T14:32:26.746402Z",
     "start_time": "2018-10-09T14:32:26.161255Z"
    }
   },
   "outputs": [
    {
     "data": {
      "text/plain": [
       "<matplotlib.legend.Legend at 0x7f624d189208>"
      ]
     },
     "execution_count": 327,
     "metadata": {},
     "output_type": "execute_result"
    },
    {
     "data": {
      "image/png": "[encoded data removed]",
      "text/plain": [
       "<Figure size 432x288 with 1 Axes>"
      ]
     },
     "metadata": {},
     "output_type": "display_data"
    }
   ],
   "source": [
    "model = LinearRegression()\n",
    "model.fit(X_train, y_train)\n",
    "\n",
    "total_bill = sc.inverse_transform(X)[:, 0]\n",
    "predicted_tip = model.predict(X)\n",
    "\n",
    "y_pred = model.predict(X_test)\n",
    "\n",
    "pl.scatter(total_bill, y, color=\"red\", label=\"dataset\")\n",
    "pl.scatter(total_bill, predicted_tip, color=\"black\", label=\"prediction\")\n",
    "\n",
    "r2 = r2_score(y_test, y_pred)\n",
    "\n",
    "pl.text(5, 7.5, f\"$R^2={r2:g}$\", fontsize=13, bbox=dict(facecolor='.7', alpha=0.5))\n",
    "pl.xlabel(\"total bill ($)\")\n",
    "pl.ylabel(\"tip ($)\")\n",
    "pl.legend()"
   ]
  },
  {
   "cell_type": "markdown",
   "metadata": {},
   "source": [
    "### Suport Vector Machine and Kernel trick"
   ]
  },
  {
   "cell_type": "code",
   "execution_count": 328,
   "metadata": {
    "ExecuteTime": {
     "end_time": "2018-10-09T14:32:32.859235Z",
     "start_time": "2018-10-09T14:32:31.873790Z"
    }
   },
   "outputs": [
    {
     "data": {
      "text/plain": [
       "<matplotlib.legend.Legend at 0x7f624d9c2c88>"
      ]
     },
     "execution_count": 328,
     "metadata": {},
     "output_type": "execute_result"
    },
    {
     "data": {
      "image/png": "[encoded data removed]",
      "text/plain": [
       "<Figure size 432x288 with 1 Axes>"
      ]
     },
     "metadata": {},
     "output_type": "display_data"
    }
   ],
   "source": [
    "model = SVR(kernel=\"rbf\")\n",
    "model.fit(X_train, y_train)\n",
    "\n",
    "total_bill = sc.inverse_transform(X)[:, 0]\n",
    "predicted_tip = model.predict(X)\n",
    "\n",
    "y_pred = model.predict(X_test)\n",
    "\n",
    "pl.scatter(total_bill, y, color=\"red\", label=\"dataset\")\n",
    "pl.scatter(total_bill, predicted_tip, color=\"black\", label=\"prediction\")\n",
    "\n",
    "r2 = r2_score(y_test, y_pred)\n",
    "\n",
    "pl.text(5, 7.5, f\"$R^2={r2:g}$\", fontsize=13, bbox=dict(facecolor='.7', alpha=0.5))\n",
    "pl.xlabel(\"total bill ($)\")\n",
    "pl.ylabel(\"tip ($)\")\n",
    "pl.legend()"
   ]
  },
  {
   "cell_type": "markdown",
   "metadata": {},
   "source": [
    "### Decision tree and Random Forest"
   ]
  },
  {
   "cell_type": "code",
   "execution_count": 329,
   "metadata": {
    "ExecuteTime": {
     "end_time": "2018-10-09T14:32:41.119805Z",
     "start_time": "2018-10-09T14:32:39.871788Z"
    }
   },
   "outputs": [
    {
     "data": {
      "text/plain": [
       "<matplotlib.legend.Legend at 0x7f62599d95c0>"
      ]
     },
     "execution_count": 329,
     "metadata": {},
     "output_type": "execute_result"
    },
    {
     "data": {
      "image/png": "[encoded data removed]",
      "text/plain": [
       "<Figure size 432x288 with 1 Axes>"
      ]
     },
     "metadata": {},
     "output_type": "display_data"
    }
   ],
   "source": [
    "from sklearn.tree import DecisionTreeRegressor\n",
    "from sklearn.ensemble import RandomForestRegressor\n",
    "\n",
    "model = DecisionTreeRegressor(min_samples_leaf=5)  # try with min_samples_leaf=1 and X/y\n",
    "model.fit(X_train, y_train) # Try with X and y\n",
    "\n",
    "total_bill = sc.inverse_transform(X)[:, 0]\n",
    "predicted_tip = model.predict(X)\n",
    "\n",
    "y_pred = model.predict(X_test)\n",
    "\n",
    "pl.scatter(total_bill, y, color=\"red\", label=\"dataset\")\n",
    "pl.scatter(total_bill, predicted_tip, color=\"black\", label=\"prediction\")\n",
    "\n",
    "r2 = r2_score(y_test, y_pred)\n",
    "\n",
    "pl.text(5, 7.5, f\"$R^2={r2:g}$\", fontsize=13, bbox=dict(facecolor='.7', alpha=0.5))\n",
    "pl.xlabel(\"total bill ($)\")\n",
    "pl.ylabel(\"tip ($)\")\n",
    "pl.legend()"
   ]
  },
  {
   "cell_type": "code",
   "execution_count": 330,
   "metadata": {
    "ExecuteTime": {
     "end_time": "2018-10-09T14:32:48.272054Z",
     "start_time": "2018-10-09T14:32:46.907003Z"
    }
   },
   "outputs": [
    {
     "data": {
      "text/plain": [
       "<matplotlib.legend.Legend at 0x7f624f9d7860>"
      ]
     },
     "execution_count": 330,
     "metadata": {},
     "output_type": "execute_result"
    },
    {
     "data": {
      "image/png": "[encoded data removed]",
      "text/plain": [
       "<Figure size 432x288 with 1 Axes>"
      ]
     },
     "metadata": {},
     "output_type": "display_data"
    }
   ],
   "source": [
    "from sklearn.neighbors import KNeighborsRegressor\n",
    "\n",
    "model = KNeighborsRegressor()\n",
    "model.fit(X_train, y_train)\n",
    "\n",
    "total_bill = sc.inverse_transform(X)[:, 0]\n",
    "predicted_tip = model.predict(X)\n",
    "\n",
    "y_pred = model.predict(X_test)\n",
    "\n",
    "pl.scatter(total_bill, y, color=\"red\", label=\"dataset\")\n",
    "pl.scatter(total_bill, predicted_tip, color=\"black\", label=\"prediction\")\n",
    "\n",
    "r2 = r2_score(y_test, y_pred)\n",
    "\n",
    "pl.text(5, 7.5, f\"$R^2={r2:g}$\", fontsize=13, bbox=dict(facecolor='.7', alpha=0.5))\n",
    "pl.xlabel(\"total bill ($)\")\n",
    "pl.ylabel(\"tip ($)\")\n",
    "pl.legend()"
   ]
  },
  {
   "cell_type": "markdown",
   "metadata": {},
   "source": [
    "## Classification - Who has a pickup?"
   ]
  }
 ],
 "metadata": {
  "kernelspec": {
   "display_name": "conda_root",
   "language": "python",
   "name": "conda_root"
  },
  "language_info": {
   "codemirror_mode": {
    "name": "ipython",
    "version": 3
   },
   "file_extension": ".py",
   "mimetype": "text/x-python",
   "name": "python",
   "nbconvert_exporter": "python",
   "pygments_lexer": "ipython3",
   "version": "3.6.5"
  },
  "toc": {
   "base_numbering": 1,
   "nav_menu": {},
   "number_sections": true,
   "sideBar": true,
   "skip_h1_title": true,
   "title_cell": "Table of Contents",
   "title_sidebar": "Contents",
   "toc_cell": true,
   "toc_position": {},
   "toc_section_display": true,
   "toc_window_display": true
  },
  "varInspector": {
   "cols": {
    "lenName": 16,
    "lenType": 16,
    "lenVar": 40
   },
   "kernels_config": {
    "python": {
     "delete_cmd_postfix": "",
     "delete_cmd_prefix": "del ",
     "library": "var_list.py",
     "varRefreshCmd": "print(var_dic_list())"
    },
    "r": {
     "delete_cmd_postfix": ") ",
     "delete_cmd_prefix": "rm(",
     "library": "var_list.r",
     "varRefreshCmd": "cat(var_dic_list()) "
    }
   },
   "types_to_exclude": [
    "module",
    "function",
    "builtin_function_or_method",
    "instance",
    "_Feature"
   ],
   "window_display": false
  }
 },
 "nbformat": 4,
 "nbformat_minor": 2
}
